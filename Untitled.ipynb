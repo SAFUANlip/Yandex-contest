{
 "cells": [
  {
   "cell_type": "code",
   "execution_count": 1,
   "id": "43451eb7-21c0-4952-811a-ee2a085f6e0d",
   "metadata": {},
   "outputs": [
    {
     "name": "stdout",
     "output_type": "stream",
     "text": [
      "[1]\n"
     ]
    }
   ],
   "source": [
    "from sklearn.ensemble import RandomForestClassifier\n",
    "from sklearn.datasets import make_classification\n",
    "X, y = make_classification(n_samples=1000, n_features=4,\n",
    "                           n_informative=2, n_redundant=0,\n",
    "                           random_state=0, shuffle=False)\n",
    "clf = RandomForestClassifier(max_depth=2, random_state=0)\n",
    "clf.fit(X, y)\n",
    "print(clf.predict([[0, 0, 0, 0]]))"
   ]
  },
  {
   "cell_type": "code",
   "execution_count": 10,
   "id": "f3f2e771-7f1d-4ca4-aff3-86d6d756e684",
   "metadata": {},
   "outputs": [],
   "source": [
    "import numpy as np\n",
    "import pandas as pd "
   ]
  },
  {
   "cell_type": "code",
   "execution_count": 3,
   "id": "7482a817-2e11-45a3-8c16-4d9b3bbceab6",
   "metadata": {},
   "outputs": [],
   "source": [
    "inp = \"F-8-T-9\""
   ]
  },
  {
   "cell_type": "code",
   "execution_count": 5,
   "id": "02b090b8-acf4-46de-ac6e-ee1d67782f2d",
   "metadata": {},
   "outputs": [
    {
     "data": {
      "text/plain": [
       "['F', '8', 'T', '9']"
      ]
     },
     "execution_count": 5,
     "metadata": {},
     "output_type": "execute_result"
    }
   ],
   "source": [
    "inp.split('-')"
   ]
  },
  {
   "cell_type": "code",
   "execution_count": 6,
   "id": "8b2aa2b6-da10-4cfd-a442-4ac9e22bb946",
   "metadata": {},
   "outputs": [
    {
     "name": "stdout",
     "output_type": "stream",
     "text": [
      "4\n",
      "5\n",
      "6\n",
      "7\n",
      "8\n"
     ]
    }
   ],
   "source": [
    "for i in range(0,10):\n",
    "    if '4' <= str(i) <= '8':\n",
    "        print(str(i)) "
   ]
  },
  {
   "cell_type": "code",
   "execution_count": 8,
   "id": "b67d062a-a64d-4bba-9bef-b88f5415a232",
   "metadata": {},
   "outputs": [
    {
     "name": "stdout",
     "output_type": "stream",
     "text": [
      "0\n"
     ]
    }
   ],
   "source": [
    "import re\n",
    "import sys\n",
    "\n",
    "# Прочитаем результаты проверок звездолётов\n",
    "starships = sys.stdin.readlines()\n",
    "result = 0\n",
    "# Напишите ваше решение здесь\n",
    "for ship in starships:\n",
    "    \n",
    "\n",
    "# Формат вывода не меняйте\n",
    "print(int(result))"
   ]
  },
  {
   "cell_type": "code",
   "execution_count": 11,
   "id": "66242624-9066-4ca9-b5c5-2651060075a3",
   "metadata": {},
   "outputs": [
    {
     "data": {
      "text/html": [
       "<div>\n",
       "<style scoped>\n",
       "    .dataframe tbody tr th:only-of-type {\n",
       "        vertical-align: middle;\n",
       "    }\n",
       "\n",
       "    .dataframe tbody tr th {\n",
       "        vertical-align: top;\n",
       "    }\n",
       "\n",
       "    .dataframe thead th {\n",
       "        text-align: right;\n",
       "    }\n",
       "</style>\n",
       "<table border=\"1\" class=\"dataframe\">\n",
       "  <thead>\n",
       "    <tr style=\"text-align: right;\">\n",
       "      <th></th>\n",
       "      <th>Тип Корабля</th>\n",
       "      <th>Кол-во</th>\n",
       "    </tr>\n",
       "  </thead>\n",
       "  <tbody>\n",
       "  </tbody>\n",
       "</table>\n",
       "</div>"
      ],
      "text/plain": [
       "Empty DataFrame\n",
       "Columns: [Тип Корабля, Кол-во]\n",
       "Index: []"
      ]
     },
     "execution_count": 11,
     "metadata": {},
     "output_type": "execute_result"
    }
   ],
   "source": [
    "pd.read_csv(sys.stdin, sep=\",\", names=[\"Тип Корабля\", \"Кол-во\"])"
   ]
  },
  {
   "cell_type": "code",
   "execution_count": 14,
   "id": "ae92c6a0-911d-462f-850c-e8055efd4be5",
   "metadata": {},
   "outputs": [],
   "source": [
    "dict_res = {\"Грузовой\":4, 'Скоростной': 5}"
   ]
  },
  {
   "cell_type": "code",
   "execution_count": 17,
   "id": "3c6229e2-4aef-4088-81b6-00c0cf291ab5",
   "metadata": {},
   "outputs": [
    {
     "data": {
      "text/html": [
       "<div>\n",
       "<style scoped>\n",
       "    .dataframe tbody tr th:only-of-type {\n",
       "        vertical-align: middle;\n",
       "    }\n",
       "\n",
       "    .dataframe tbody tr th {\n",
       "        vertical-align: top;\n",
       "    }\n",
       "\n",
       "    .dataframe thead th {\n",
       "        text-align: right;\n",
       "    }\n",
       "</style>\n",
       "<table border=\"1\" class=\"dataframe\">\n",
       "  <thead>\n",
       "    <tr style=\"text-align: right;\">\n",
       "      <th></th>\n",
       "      <th>Date</th>\n",
       "      <th>DateValue</th>\n",
       "    </tr>\n",
       "  </thead>\n",
       "  <tbody>\n",
       "    <tr>\n",
       "      <th>0</th>\n",
       "      <td>Грузовой</td>\n",
       "      <td>4</td>\n",
       "    </tr>\n",
       "    <tr>\n",
       "      <th>1</th>\n",
       "      <td>Скоростной</td>\n",
       "      <td>5</td>\n",
       "    </tr>\n",
       "  </tbody>\n",
       "</table>\n",
       "</div>"
      ],
      "text/plain": [
       "         Date  DateValue\n",
       "0    Грузовой          4\n",
       "1  Скоростной          5"
      ]
     },
     "execution_count": 17,
     "metadata": {},
     "output_type": "execute_result"
    }
   ],
   "source": [
    "pd.DataFrame(dict_res.items(), columns=['Date', 'DateValue']) "
   ]
  },
  {
   "cell_type": "code",
   "execution_count": 18,
   "id": "444a4b1f-a877-4da3-ba73-8d77c8c944ab",
   "metadata": {},
   "outputs": [],
   "source": [
    "data = [\n",
    "    ['Звёздный истребитель', 2],\n",
    "    ['Крейсер', 3],\n",
    "    ['Корвет', 4],\n",
    "    ['Канонерка', 2],\n",
    "    ['Фрегат', 2],\n",
    "    ['Линейный корабль', 1],\n",
    "    ['Грузовой корабль', 2],\n",
    "    ['Грузовой корабль', 3],\n",
    "    ['Канонерка', 5],\n",
    "    ['Звёздный истребитель', 4],\n",
    "    ['Фрегат', 4],\n",
    "    ['Корвет', 1],\n",
    "    ['Корвет', 5],\n",
    "    ['Крейсер', 2],\n",
    "    ['Крейсер', 3],\n",
    "    ['Звёздный истребитель', 3],\n",
    "    ['Корвет', 3],\n",
    "    ['Медицинский корабль', 2],\n",
    "    ['Медицинский корабль', 3],\n",
    " ['Канонерка', 5],\n",
    "    ['Звёздный истребитель', 4],\n",
    "    ['Фрегат', 4],\n",
    "    ['Корвет', 1],\n",
    "    ['Корвет', 5],\n",
    "    ['Крейсер', 2],\n",
    "    ['Крейсер', 3],\n",
    "    ['Звёздный истребитель', 3],\n",
    "    ['Корвет', 3],\n",
    "    ['Медицинский корабль', 2],\n",
    "    ['Медицинский корабль', 3]\n",
    "]\n",
    "\n",
    "# Convert the data to a pandas DataFrame\n",
    "df = pd.DataFrame(data, columns=['Тип Корабля', 'Ремонтов за день'])"
   ]
  },
  {
   "cell_type": "code",
   "execution_count": 22,
   "id": "f4306bb4-81af-44e3-9393-9051ddd91b08",
   "metadata": {},
   "outputs": [
    {
     "data": {
      "text/html": [
       "<div>\n",
       "<style scoped>\n",
       "    .dataframe tbody tr th:only-of-type {\n",
       "        vertical-align: middle;\n",
       "    }\n",
       "\n",
       "    .dataframe tbody tr th {\n",
       "        vertical-align: top;\n",
       "    }\n",
       "\n",
       "    .dataframe thead th {\n",
       "        text-align: right;\n",
       "    }\n",
       "</style>\n",
       "<table border=\"1\" class=\"dataframe\">\n",
       "  <thead>\n",
       "    <tr style=\"text-align: right;\">\n",
       "      <th></th>\n",
       "      <th>Тип Корабля</th>\n",
       "      <th>Ремонтов за день</th>\n",
       "    </tr>\n",
       "  </thead>\n",
       "  <tbody>\n",
       "    <tr>\n",
       "      <th>0</th>\n",
       "      <td>Звёздный истребитель</td>\n",
       "      <td>2</td>\n",
       "    </tr>\n",
       "    <tr>\n",
       "      <th>1</th>\n",
       "      <td>Крейсер</td>\n",
       "      <td>3</td>\n",
       "    </tr>\n",
       "    <tr>\n",
       "      <th>2</th>\n",
       "      <td>Корвет</td>\n",
       "      <td>4</td>\n",
       "    </tr>\n",
       "    <tr>\n",
       "      <th>3</th>\n",
       "      <td>Канонерка</td>\n",
       "      <td>2</td>\n",
       "    </tr>\n",
       "    <tr>\n",
       "      <th>4</th>\n",
       "      <td>Фрегат</td>\n",
       "      <td>2</td>\n",
       "    </tr>\n",
       "    <tr>\n",
       "      <th>5</th>\n",
       "      <td>Линейный корабль</td>\n",
       "      <td>1</td>\n",
       "    </tr>\n",
       "    <tr>\n",
       "      <th>6</th>\n",
       "      <td>Грузовой корабль</td>\n",
       "      <td>2</td>\n",
       "    </tr>\n",
       "    <tr>\n",
       "      <th>7</th>\n",
       "      <td>Грузовой корабль</td>\n",
       "      <td>3</td>\n",
       "    </tr>\n",
       "    <tr>\n",
       "      <th>8</th>\n",
       "      <td>Канонерка</td>\n",
       "      <td>5</td>\n",
       "    </tr>\n",
       "    <tr>\n",
       "      <th>9</th>\n",
       "      <td>Звёздный истребитель</td>\n",
       "      <td>4</td>\n",
       "    </tr>\n",
       "    <tr>\n",
       "      <th>10</th>\n",
       "      <td>Фрегат</td>\n",
       "      <td>4</td>\n",
       "    </tr>\n",
       "    <tr>\n",
       "      <th>11</th>\n",
       "      <td>Корвет</td>\n",
       "      <td>1</td>\n",
       "    </tr>\n",
       "    <tr>\n",
       "      <th>12</th>\n",
       "      <td>Корвет</td>\n",
       "      <td>5</td>\n",
       "    </tr>\n",
       "    <tr>\n",
       "      <th>13</th>\n",
       "      <td>Крейсер</td>\n",
       "      <td>2</td>\n",
       "    </tr>\n",
       "    <tr>\n",
       "      <th>14</th>\n",
       "      <td>Крейсер</td>\n",
       "      <td>3</td>\n",
       "    </tr>\n",
       "    <tr>\n",
       "      <th>15</th>\n",
       "      <td>Звёздный истребитель</td>\n",
       "      <td>3</td>\n",
       "    </tr>\n",
       "    <tr>\n",
       "      <th>16</th>\n",
       "      <td>Корвет</td>\n",
       "      <td>3</td>\n",
       "    </tr>\n",
       "    <tr>\n",
       "      <th>17</th>\n",
       "      <td>Медицинский корабль</td>\n",
       "      <td>2</td>\n",
       "    </tr>\n",
       "    <tr>\n",
       "      <th>18</th>\n",
       "      <td>Медицинский корабль</td>\n",
       "      <td>3</td>\n",
       "    </tr>\n",
       "    <tr>\n",
       "      <th>19</th>\n",
       "      <td>Канонерка</td>\n",
       "      <td>5</td>\n",
       "    </tr>\n",
       "    <tr>\n",
       "      <th>20</th>\n",
       "      <td>Звёздный истребитель</td>\n",
       "      <td>4</td>\n",
       "    </tr>\n",
       "    <tr>\n",
       "      <th>21</th>\n",
       "      <td>Фрегат</td>\n",
       "      <td>4</td>\n",
       "    </tr>\n",
       "    <tr>\n",
       "      <th>22</th>\n",
       "      <td>Корвет</td>\n",
       "      <td>1</td>\n",
       "    </tr>\n",
       "    <tr>\n",
       "      <th>23</th>\n",
       "      <td>Корвет</td>\n",
       "      <td>5</td>\n",
       "    </tr>\n",
       "    <tr>\n",
       "      <th>24</th>\n",
       "      <td>Крейсер</td>\n",
       "      <td>2</td>\n",
       "    </tr>\n",
       "    <tr>\n",
       "      <th>25</th>\n",
       "      <td>Крейсер</td>\n",
       "      <td>3</td>\n",
       "    </tr>\n",
       "    <tr>\n",
       "      <th>26</th>\n",
       "      <td>Звёздный истребитель</td>\n",
       "      <td>3</td>\n",
       "    </tr>\n",
       "    <tr>\n",
       "      <th>27</th>\n",
       "      <td>Корвет</td>\n",
       "      <td>3</td>\n",
       "    </tr>\n",
       "    <tr>\n",
       "      <th>28</th>\n",
       "      <td>Медицинский корабль</td>\n",
       "      <td>2</td>\n",
       "    </tr>\n",
       "    <tr>\n",
       "      <th>29</th>\n",
       "      <td>Медицинский корабль</td>\n",
       "      <td>3</td>\n",
       "    </tr>\n",
       "  </tbody>\n",
       "</table>\n",
       "</div>"
      ],
      "text/plain": [
       "             Тип Корабля  Ремонтов за день\n",
       "0   Звёздный истребитель                 2\n",
       "1                Крейсер                 3\n",
       "2                 Корвет                 4\n",
       "3              Канонерка                 2\n",
       "4                 Фрегат                 2\n",
       "5       Линейный корабль                 1\n",
       "6       Грузовой корабль                 2\n",
       "7       Грузовой корабль                 3\n",
       "8              Канонерка                 5\n",
       "9   Звёздный истребитель                 4\n",
       "10                Фрегат                 4\n",
       "11                Корвет                 1\n",
       "12                Корвет                 5\n",
       "13               Крейсер                 2\n",
       "14               Крейсер                 3\n",
       "15  Звёздный истребитель                 3\n",
       "16                Корвет                 3\n",
       "17   Медицинский корабль                 2\n",
       "18   Медицинский корабль                 3\n",
       "19             Канонерка                 5\n",
       "20  Звёздный истребитель                 4\n",
       "21                Фрегат                 4\n",
       "22                Корвет                 1\n",
       "23                Корвет                 5\n",
       "24               Крейсер                 2\n",
       "25               Крейсер                 3\n",
       "26  Звёздный истребитель                 3\n",
       "27                Корвет                 3\n",
       "28   Медицинский корабль                 2\n",
       "29   Медицинский корабль                 3"
      ]
     },
     "execution_count": 22,
     "metadata": {},
     "output_type": "execute_result"
    }
   ],
   "source": [
    "df "
   ]
  },
  {
   "cell_type": "code",
   "execution_count": 29,
   "id": "afd12fb4-44fe-4e4b-b27a-8b169c1dec34",
   "metadata": {},
   "outputs": [],
   "source": [
    "summary = df.groupby('Тип Корабля')['Ремонтов за день'].sum().reset_index()\n",
    "summary.columns = ['Тип Корабля', 'Ремонтов за неделю']"
   ]
  },
  {
   "cell_type": "code",
   "execution_count": 30,
   "id": "5ff87d17-6425-40c6-9169-9c51d29f4c39",
   "metadata": {},
   "outputs": [
    {
     "data": {
      "text/html": [
       "<div>\n",
       "<style scoped>\n",
       "    .dataframe tbody tr th:only-of-type {\n",
       "        vertical-align: middle;\n",
       "    }\n",
       "\n",
       "    .dataframe tbody tr th {\n",
       "        vertical-align: top;\n",
       "    }\n",
       "\n",
       "    .dataframe thead th {\n",
       "        text-align: right;\n",
       "    }\n",
       "</style>\n",
       "<table border=\"1\" class=\"dataframe\">\n",
       "  <thead>\n",
       "    <tr style=\"text-align: right;\">\n",
       "      <th></th>\n",
       "      <th>Тип Корабля</th>\n",
       "      <th>Ремонтов за неделю</th>\n",
       "    </tr>\n",
       "  </thead>\n",
       "  <tbody>\n",
       "    <tr>\n",
       "      <th>0</th>\n",
       "      <td>Грузовой корабль</td>\n",
       "      <td>5</td>\n",
       "    </tr>\n",
       "    <tr>\n",
       "      <th>1</th>\n",
       "      <td>Звёздный истребитель</td>\n",
       "      <td>16</td>\n",
       "    </tr>\n",
       "    <tr>\n",
       "      <th>2</th>\n",
       "      <td>Канонерка</td>\n",
       "      <td>12</td>\n",
       "    </tr>\n",
       "    <tr>\n",
       "      <th>3</th>\n",
       "      <td>Корвет</td>\n",
       "      <td>22</td>\n",
       "    </tr>\n",
       "    <tr>\n",
       "      <th>4</th>\n",
       "      <td>Крейсер</td>\n",
       "      <td>13</td>\n",
       "    </tr>\n",
       "    <tr>\n",
       "      <th>5</th>\n",
       "      <td>Линейный корабль</td>\n",
       "      <td>1</td>\n",
       "    </tr>\n",
       "    <tr>\n",
       "      <th>6</th>\n",
       "      <td>Медицинский корабль</td>\n",
       "      <td>10</td>\n",
       "    </tr>\n",
       "    <tr>\n",
       "      <th>7</th>\n",
       "      <td>Фрегат</td>\n",
       "      <td>10</td>\n",
       "    </tr>\n",
       "  </tbody>\n",
       "</table>\n",
       "</div>"
      ],
      "text/plain": [
       "            Тип Корабля  Ремонтов за неделю\n",
       "0      Грузовой корабль                   5\n",
       "1  Звёздный истребитель                  16\n",
       "2             Канонерка                  12\n",
       "3                Корвет                  22\n",
       "4               Крейсер                  13\n",
       "5      Линейный корабль                   1\n",
       "6   Медицинский корабль                  10\n",
       "7                Фрегат                  10"
      ]
     },
     "execution_count": 30,
     "metadata": {},
     "output_type": "execute_result"
    }
   ],
   "source": [
    "summary "
   ]
  },
  {
   "cell_type": "code",
   "execution_count": 27,
   "id": "5269c452-bfe7-4d90-9f10-517d4b8e7197",
   "metadata": {},
   "outputs": [
    {
     "data": {
      "text/plain": [
       "Тип Корабля\n",
       "Грузовой корабль         5\n",
       "Звёздный истребитель    16\n",
       "Канонерка               12\n",
       "Корвет                  22\n",
       "Крейсер                 13\n",
       "Линейный корабль         1\n",
       "Медицинский корабль     10\n",
       "Фрегат                  10\n",
       "Name: Ремонтов за день, dtype: int64"
      ]
     },
     "execution_count": 27,
     "metadata": {},
     "output_type": "execute_result"
    }
   ],
   "source": [
    "df.groupby('Тип Корабля')['Ремонтов за день'].sum() "
   ]
  },
  {
   "cell_type": "code",
   "execution_count": 36,
   "id": "f310b66c-1030-41eb-bcad-0d9dd0334462",
   "metadata": {},
   "outputs": [],
   "source": [
    "import pymorphy2 "
   ]
  },
  {
   "cell_type": "code",
   "execution_count": 35,
   "id": "3ee90090-d7b4-4e09-af81-8baaf174ff96",
   "metadata": {},
   "outputs": [
    {
     "name": "stdin",
     "output_type": "stream",
     "text": [
      " Отвратительный, нормально, Противная кухня, приторно но сойдёт, странный товар, гадкий вкус, как всегда чёткость, противное, отвратительное сервис, гадкое, бух,\n"
     ]
    },
    {
     "name": "stdout",
     "output_type": "stream",
     "text": [
      "отвратительный нормально противная кухня приторно но сойдёт странный товар гадкий вкус как всегда чёткость противное отвратительное сервис гадкое бух\n"
     ]
    }
   ],
   "source": [
    "reviews = input()\n",
    "reviews = reviews.replace(',', '').replace('.', '').replace('!', '').replace('?', '').lower() \n",
    "print(reviews)"
   ]
  },
  {
   "cell_type": "code",
   "execution_count": 38,
   "id": "4496836a-3298-40ee-baeb-298586d54aa4",
   "metadata": {},
   "outputs": [],
   "source": [
    "bad_words = ['отвратительный', 'противный', 'гадкий']"
   ]
  },
  {
   "cell_type": "code",
   "execution_count": 39,
   "id": "bed79f36-deac-4b28-8d5d-0888006c6b34",
   "metadata": {},
   "outputs": [
    {
     "ename": "AttributeError",
     "evalue": "'list' object has no attribute 'findall'",
     "output_type": "error",
     "traceback": [
      "\u001b[1;31m---------------------------------------------------------------------------\u001b[0m",
      "\u001b[1;31mAttributeError\u001b[0m                            Traceback (most recent call last)",
      "Cell \u001b[1;32mIn[39], line 1\u001b[0m\n\u001b[1;32m----> 1\u001b[0m \u001b[38;5;28mlen\u001b[39m(\u001b[43mbad_words\u001b[49m\u001b[38;5;241;43m.\u001b[39;49m\u001b[43mfindall\u001b[49m(text))\n",
      "\u001b[1;31mAttributeError\u001b[0m: 'list' object has no attribute 'findall'"
     ]
    }
   ],
   "source": [
    "len(bad_words.findall(text))"
   ]
  },
  {
   "cell_type": "code",
   "execution_count": 33,
   "id": "786a3922-7597-4e4e-9291-d5a7b648353a",
   "metadata": {},
   "outputs": [
    {
     "data": {
      "text/plain": [
       "str"
      ]
     },
     "execution_count": 33,
     "metadata": {},
     "output_type": "execute_result"
    }
   ],
   "source": [
    "type(reviews)"
   ]
  },
  {
   "cell_type": "code",
   "execution_count": 40,
   "id": "965e22ab-21a9-4574-adf7-54d02c66c00a",
   "metadata": {},
   "outputs": [],
   "source": [
    "from collections import Counter"
   ]
  },
  {
   "cell_type": "code",
   "execution_count": 41,
   "id": "3f828918-2559-403c-8c1d-d3a98db8451e",
   "metadata": {},
   "outputs": [],
   "source": [
    "tts = [\n",
    "    {'синее молоко': 72, 'сухпаёк': 33, 'вегмясо': 10, 'яичное угощение': 10, 'зеленое молоко': 12, 'мейлуран': 90},\n",
    "    {'синее молоко': 12, 'вегмясо': 17, 'яичное угощение': 1, 'зеленое молоко': 2, 'разноцветные пирожные': 212},\n",
    "    {'сухпаёк': 3, 'вегмясо': 3, 'яичное угощение': 60, 'зеленое молоко': 8, 'разноцветные пирожные': 25, 'фрукт Набу': 71}, \n",
    "    {'вегмясо': 6, 'яичное угощение': 13, 'мейлуран': 31, 'зеленое молоко': 9, 'фрукт Набу': 756}, \n",
    "]"
   ]
  },
  {
   "cell_type": "code",
   "execution_count": null,
   "id": "25b5c79d-1be4-44c2-bfcf-44aab9c0c0f0",
   "metadata": {},
   "outputs": [],
   "source": []
  },
  {
   "cell_type": "code",
   "execution_count": 45,
   "id": "a5eecf84-d51a-416f-8b75-fae575378bda",
   "metadata": {},
   "outputs": [],
   "source": [
    "for k, vals in zip(*tts, {}):\n",
    "    print(k, vals) "
   ]
  },
  {
   "cell_type": "code",
   "execution_count": 42,
   "id": "b81e014b-dba1-4c7f-8421-3f915aa00252",
   "metadata": {},
   "outputs": [
    {
     "ename": "ValueError",
     "evalue": "too many values to unpack (expected 2)",
     "output_type": "error",
     "traceback": [
      "\u001b[1;31m---------------------------------------------------------------------------\u001b[0m",
      "\u001b[1;31mValueError\u001b[0m                                Traceback (most recent call last)",
      "Cell \u001b[1;32mIn[42], line 1\u001b[0m\n\u001b[1;32m----> 1\u001b[0m Counter({k: \u001b[38;5;28mmax\u001b[39m(v \u001b[38;5;28;01mfor\u001b[39;00m v \u001b[38;5;129;01min\u001b[39;00m vals) \u001b[38;5;28;01mfor\u001b[39;00m k, vals \u001b[38;5;129;01min\u001b[39;00m \u001b[38;5;28mzip\u001b[39m(\u001b[38;5;241m*\u001b[39mtts)})\n",
      "\u001b[1;31mValueError\u001b[0m: too many values to unpack (expected 2)"
     ]
    }
   ],
   "source": [
    "Counter({k: max(v for v in vals) for k, vals in zip(*tts)})"
   ]
  },
  {
   "cell_type": "code",
   "execution_count": 14,
   "id": "5207225b-77d3-4608-ade6-f6ce59ea3d7d",
   "metadata": {},
   "outputs": [
    {
     "data": {
      "text/plain": [
       "141.42489172702236"
      ]
     },
     "execution_count": 14,
     "metadata": {},
     "output_type": "execute_result"
    }
   ],
   "source": [
    "np.linalg.norm([100,100,1])"
   ]
  },
  {
   "cell_type": "code",
   "execution_count": 18,
   "id": "08aed8e9-fe34-4240-8cd2-78eeef8de06a",
   "metadata": {},
   "outputs": [],
   "source": [
    "if 4>5 | 6>2:\n",
    "    print('work')"
   ]
  },
  {
   "cell_type": "code",
   "execution_count": 20,
   "id": "e71ab7c7-e2ea-4166-ad70-158287b524c5",
   "metadata": {},
   "outputs": [],
   "source": [
    "arr = [1, 2, 4, 5]"
   ]
  },
  {
   "cell_type": "code",
   "execution_count": 21,
   "id": "91e72c78-c1b5-4cbd-911f-165eab764eb4",
   "metadata": {},
   "outputs": [
    {
     "data": {
      "text/plain": [
       "1"
      ]
     },
     "execution_count": 21,
     "metadata": {},
     "output_type": "execute_result"
    }
   ],
   "source": [
    "arr.pop(0)"
   ]
  },
  {
   "cell_type": "code",
   "execution_count": 22,
   "id": "12662b83-e9d0-496f-bfae-9ed45164036d",
   "metadata": {},
   "outputs": [
    {
     "data": {
      "text/plain": [
       "[2, 4, 5]"
      ]
     },
     "execution_count": 22,
     "metadata": {},
     "output_type": "execute_result"
    }
   ],
   "source": [
    "arr"
   ]
  },
  {
   "cell_type": "code",
   "execution_count": 12,
   "id": "dd9e0ca1-95e5-4f3b-889f-8d4b67c3b5dc",
   "metadata": {},
   "outputs": [
    {
     "ename": "TypeError",
     "evalue": "rand() got an unexpected keyword argument 'size'",
     "output_type": "error",
     "traceback": [
      "\u001b[1;31m---------------------------------------------------------------------------\u001b[0m",
      "\u001b[1;31mTypeError\u001b[0m                                 Traceback (most recent call last)",
      "Cell \u001b[1;32mIn[12], line 1\u001b[0m\n\u001b[1;32m----> 1\u001b[0m \u001b[43mnp\u001b[49m\u001b[38;5;241;43m.\u001b[39;49m\u001b[43mrandom\u001b[49m\u001b[38;5;241;43m.\u001b[39;49m\u001b[43mrand\u001b[49m\u001b[43m(\u001b[49m\u001b[38;5;28;43mint\u001b[39;49m\u001b[43m(\u001b[49m\u001b[38;5;241;43m-\u001b[39;49m\u001b[38;5;241;43m0.001\u001b[39;49m\u001b[43m \u001b[49m\u001b[38;5;241;43m*\u001b[39;49m\u001b[43m \u001b[49m\u001b[43mr\u001b[49m\u001b[43m)\u001b[49m\u001b[43m,\u001b[49m\u001b[43m \u001b[49m\u001b[38;5;28;43mint\u001b[39;49m\u001b[43m(\u001b[49m\u001b[38;5;241;43m0.001\u001b[39;49m\u001b[43m \u001b[49m\u001b[38;5;241;43m*\u001b[39;49m\u001b[43m \u001b[49m\u001b[43mr\u001b[49m\u001b[43m)\u001b[49m\u001b[43m,\u001b[49m\u001b[43m \u001b[49m\u001b[43msize\u001b[49m\u001b[38;5;241;43m=\u001b[39;49m\u001b[38;5;241;43m3\u001b[39;49m\u001b[43m)\u001b[49m\n",
      "\u001b[1;31mTypeError\u001b[0m: rand() got an unexpected keyword argument 'size'"
     ]
    }
   ],
   "source": [
    "np.random.rand(int(-0.001 * r), int(0.001 * r), size=3)"
   ]
  },
  {
   "cell_type": "markdown",
   "id": "ac7a737a",
   "metadata": {},
   "source": [
    "# Генератор точек в круге"
   ]
  },
  {
   "cell_type": "code",
   "execution_count": 2,
   "id": "2b90a497",
   "metadata": {},
   "outputs": [],
   "source": [
    "def generate1():\n",
    "    a = np.random.uniform(0,1)\n",
    "    b = np.random.uniform(0,1)\n",
    "    return (a*np.cos(2*np.pi*b), a*np.sin(2*np.pi*b))\n",
    "\n",
    "def generate2():\n",
    "    while True:\n",
    "        x = np.random.uniform(-1,1)\n",
    "        y = np.random.uniform(-1,1)\n",
    "        if x**2 + y**2 > 1:\n",
    "            continue\n",
    "        return (x, y)"
   ]
  },
  {
   "cell_type": "code",
   "execution_count": 5,
   "id": "c240dc32",
   "metadata": {},
   "outputs": [
    {
     "name": "stderr",
     "output_type": "stream",
     "text": [
      "\n",
      "KeyboardInterrupt\n",
      "\n"
     ]
    }
   ],
   "source": [
    "list(map(float, input().split()))"
   ]
  },
  {
   "cell_type": "code",
   "execution_count": 6,
   "id": "552732fd",
   "metadata": {},
   "outputs": [
    {
     "ename": "NameError",
     "evalue": "name 'arr' is not defined",
     "output_type": "error",
     "traceback": [
      "\u001b[1;31m---------------------------------------------------------------------------\u001b[0m",
      "\u001b[1;31mNameError\u001b[0m                                 Traceback (most recent call last)",
      "Cell \u001b[1;32mIn[6], line 1\u001b[0m\n\u001b[1;32m----> 1\u001b[0m \u001b[43marr\u001b[49m\n",
      "\u001b[1;31mNameError\u001b[0m: name 'arr' is not defined"
     ]
    }
   ],
   "source": [
    "arr"
   ]
  },
  {
   "cell_type": "code",
   "execution_count": null,
   "id": "121fd994",
   "metadata": {},
   "outputs": [],
   "source": [
    "for i in range(3):\n",
    "    data = list(map(float, input().split()))\n",
    "    std = np.std(data)"
   ]
  },
  {
   "cell_type": "code",
   "execution_count": 8,
   "id": "27f714ee",
   "metadata": {},
   "outputs": [],
   "source": [
    "std = 0.1#np.std(data)"
   ]
  },
  {
   "cell_type": "code",
   "execution_count": 9,
   "id": "f9fd2644",
   "metadata": {},
   "outputs": [
    {
     "name": "stdout",
     "output_type": "stream",
     "text": [
      "1\n"
     ]
    }
   ],
   "source": [
    "if abs(0.4 - std) < abs(0.5 - std):\n",
    "    print(1)\n",
    "else:\n",
    "    print(2)"
   ]
  },
  {
   "cell_type": "code",
   "execution_count": 10,
   "id": "28d1cf06",
   "metadata": {},
   "outputs": [],
   "source": [
    "def data_gen(rows, columns):\n",
    "    data = []\n",
    "    Y = []\n",
    "    for i in range(rows):\n",
    "        buff = []\n",
    "        for i in range(columns):\n",
    "            x,y = generate1()\n",
    "            buff.append(x)\n",
    "            buff.append(y)\n",
    "        data.append(buff)\n",
    "        #Y.append(1)\n",
    "    for i in range(rows):\n",
    "        buff = []\n",
    "        for i in range(columns):\n",
    "            x,y = generate2()\n",
    "            buff.append(x)\n",
    "            buff.append(y)\n",
    "        data.append(buff)\n",
    "        #Y.append(2)\n",
    "    return (np.array(data), np.array(Y))"
   ]
  },
  {
   "cell_type": "code",
   "execution_count": 11,
   "id": "2ec8a460",
   "metadata": {},
   "outputs": [],
   "source": [
    "\n",
    "X_train, Y_train = data_gen(1, 1000)"
   ]
  },
  {
   "cell_type": "code",
   "execution_count": 70,
   "id": "3de6d9af",
   "metadata": {},
   "outputs": [
    {
     "data": {
      "text/plain": [
       "0.40488148623555725"
      ]
     },
     "execution_count": 70,
     "metadata": {},
     "output_type": "execute_result"
    }
   ],
   "source": [
    "X_train[0].std()"
   ]
  },
  {
   "cell_type": "code",
   "execution_count": 71,
   "id": "7b7b28ff",
   "metadata": {},
   "outputs": [
    {
     "data": {
      "text/plain": [
       "0.49862128442436693"
      ]
     },
     "execution_count": 71,
     "metadata": {},
     "output_type": "execute_result"
    }
   ],
   "source": [
    "X_train[1].std()"
   ]
  },
  {
   "cell_type": "code",
   "execution_count": 4,
   "id": "e6a941a2",
   "metadata": {},
   "outputs": [
    {
     "name": "stdout",
     "output_type": "stream",
     "text": [
      "CPU times: total: 531 ms\n",
      "Wall time: 525 ms\n"
     ]
    },
    {
     "data": {
      "text/html": [
       "<style>#sk-container-id-1 {color: black;}#sk-container-id-1 pre{padding: 0;}#sk-container-id-1 div.sk-toggleable {background-color: white;}#sk-container-id-1 label.sk-toggleable__label {cursor: pointer;display: block;width: 100%;margin-bottom: 0;padding: 0.3em;box-sizing: border-box;text-align: center;}#sk-container-id-1 label.sk-toggleable__label-arrow:before {content: \"▸\";float: left;margin-right: 0.25em;color: #696969;}#sk-container-id-1 label.sk-toggleable__label-arrow:hover:before {color: black;}#sk-container-id-1 div.sk-estimator:hover label.sk-toggleable__label-arrow:before {color: black;}#sk-container-id-1 div.sk-toggleable__content {max-height: 0;max-width: 0;overflow: hidden;text-align: left;background-color: #f0f8ff;}#sk-container-id-1 div.sk-toggleable__content pre {margin: 0.2em;color: black;border-radius: 0.25em;background-color: #f0f8ff;}#sk-container-id-1 input.sk-toggleable__control:checked~div.sk-toggleable__content {max-height: 200px;max-width: 100%;overflow: auto;}#sk-container-id-1 input.sk-toggleable__control:checked~label.sk-toggleable__label-arrow:before {content: \"▾\";}#sk-container-id-1 div.sk-estimator input.sk-toggleable__control:checked~label.sk-toggleable__label {background-color: #d4ebff;}#sk-container-id-1 div.sk-label input.sk-toggleable__control:checked~label.sk-toggleable__label {background-color: #d4ebff;}#sk-container-id-1 input.sk-hidden--visually {border: 0;clip: rect(1px 1px 1px 1px);clip: rect(1px, 1px, 1px, 1px);height: 1px;margin: -1px;overflow: hidden;padding: 0;position: absolute;width: 1px;}#sk-container-id-1 div.sk-estimator {font-family: monospace;background-color: #f0f8ff;border: 1px dotted black;border-radius: 0.25em;box-sizing: border-box;margin-bottom: 0.5em;}#sk-container-id-1 div.sk-estimator:hover {background-color: #d4ebff;}#sk-container-id-1 div.sk-parallel-item::after {content: \"\";width: 100%;border-bottom: 1px solid gray;flex-grow: 1;}#sk-container-id-1 div.sk-label:hover label.sk-toggleable__label {background-color: #d4ebff;}#sk-container-id-1 div.sk-serial::before {content: \"\";position: absolute;border-left: 1px solid gray;box-sizing: border-box;top: 0;bottom: 0;left: 50%;z-index: 0;}#sk-container-id-1 div.sk-serial {display: flex;flex-direction: column;align-items: center;background-color: white;padding-right: 0.2em;padding-left: 0.2em;position: relative;}#sk-container-id-1 div.sk-item {position: relative;z-index: 1;}#sk-container-id-1 div.sk-parallel {display: flex;align-items: stretch;justify-content: center;background-color: white;position: relative;}#sk-container-id-1 div.sk-item::before, #sk-container-id-1 div.sk-parallel-item::before {content: \"\";position: absolute;border-left: 1px solid gray;box-sizing: border-box;top: 0;bottom: 0;left: 50%;z-index: -1;}#sk-container-id-1 div.sk-parallel-item {display: flex;flex-direction: column;z-index: 1;position: relative;background-color: white;}#sk-container-id-1 div.sk-parallel-item:first-child::after {align-self: flex-end;width: 50%;}#sk-container-id-1 div.sk-parallel-item:last-child::after {align-self: flex-start;width: 50%;}#sk-container-id-1 div.sk-parallel-item:only-child::after {width: 0;}#sk-container-id-1 div.sk-dashed-wrapped {border: 1px dashed gray;margin: 0 0.4em 0.5em 0.4em;box-sizing: border-box;padding-bottom: 0.4em;background-color: white;}#sk-container-id-1 div.sk-label label {font-family: monospace;font-weight: bold;display: inline-block;line-height: 1.2em;}#sk-container-id-1 div.sk-label-container {text-align: center;}#sk-container-id-1 div.sk-container {/* jupyter's `normalize.less` sets `[hidden] { display: none; }` but bootstrap.min.css set `[hidden] { display: none !important; }` so we also need the `!important` here to be able to override the default hidden behavior on the sphinx rendered scikit-learn.org. See: https://github.com/scikit-learn/scikit-learn/issues/21755 */display: inline-block !important;position: relative;}#sk-container-id-1 div.sk-text-repr-fallback {display: none;}</style><div id=\"sk-container-id-1\" class=\"sk-top-container\"><div class=\"sk-text-repr-fallback\"><pre>SVC()</pre><b>In a Jupyter environment, please rerun this cell to show the HTML representation or trust the notebook. <br />On GitHub, the HTML representation is unable to render, please try loading this page with nbviewer.org.</b></div><div class=\"sk-container\" hidden><div class=\"sk-item\"><div class=\"sk-estimator sk-toggleable\"><input class=\"sk-toggleable__control sk-hidden--visually\" id=\"sk-estimator-id-1\" type=\"checkbox\" checked><label for=\"sk-estimator-id-1\" class=\"sk-toggleable__label sk-toggleable__label-arrow\">SVC</label><div class=\"sk-toggleable__content\"><pre>SVC()</pre></div></div></div></div></div>"
      ],
      "text/plain": [
       "SVC()"
      ]
     },
     "execution_count": 4,
     "metadata": {},
     "output_type": "execute_result"
    }
   ],
   "source": [
    "%%time\n",
    "\n",
    "    \n",
    "cls = SVC()\n",
    "cls.fit(np.array(X_train),np.array(Y_train))"
   ]
  },
  {
   "cell_type": "code",
   "execution_count": 7,
   "id": "f45b2c9c",
   "metadata": {},
   "outputs": [],
   "source": [
    "X_test, Y_test = data_gen(100, 500)"
   ]
  },
  {
   "cell_type": "code",
   "execution_count": null,
   "id": "915d73fe",
   "metadata": {},
   "outputs": [],
   "source": [
    "for i in range"
   ]
  },
  {
   "cell_type": "code",
   "execution_count": 8,
   "id": "ce995355",
   "metadata": {},
   "outputs": [
    {
     "data": {
      "text/plain": [
       "array([1, 1, 1, 1, 1, 1, 1, 1, 1, 1, 1, 1, 1, 1, 1, 1, 1, 1, 1, 1, 1, 1,\n",
       "       1, 1, 1, 1, 1, 1, 1, 1, 1, 1, 1, 1, 1, 1, 1, 1, 1, 1, 1, 1, 1, 1,\n",
       "       1, 1, 1, 1, 1, 1, 1, 1, 1, 1, 1, 1, 1, 1, 1, 1, 1, 1, 1, 1, 1, 1,\n",
       "       1, 1, 1, 1, 1, 1, 1, 1, 1, 1, 1, 1, 1, 1, 1, 1, 1, 1, 1, 1, 1, 1,\n",
       "       1, 1, 1, 1, 1, 1, 1, 1, 1, 1, 1, 1, 2, 2, 2, 2, 2, 2, 2, 2, 2, 2,\n",
       "       2, 2, 2, 2, 2, 2, 2, 2, 2, 2, 2, 2, 2, 2, 2, 2, 2, 2, 2, 2, 2, 2,\n",
       "       2, 2, 2, 2, 2, 2, 2, 2, 2, 2, 2, 2, 2, 2, 2, 2, 2, 2, 2, 2, 2, 2,\n",
       "       2, 2, 2, 2, 2, 2, 2, 2, 2, 2, 2, 2, 2, 2, 2, 2, 2, 2, 2, 2, 2, 2,\n",
       "       2, 2, 2, 2, 2, 2, 2, 2, 2, 2, 2, 2, 2, 2, 2, 2, 2, 2, 2, 2, 2, 2,\n",
       "       2, 2])"
      ]
     },
     "execution_count": 8,
     "metadata": {},
     "output_type": "execute_result"
    }
   ],
   "source": [
    "cls.predict(X_test)"
   ]
  },
  {
   "cell_type": "markdown",
   "id": "2ee234ad",
   "metadata": {},
   "source": [
    "# Сумма на гранях"
   ]
  },
  {
   "cell_type": "code",
   "execution_count": 5,
   "id": "5b91d57b",
   "metadata": {},
   "outputs": [],
   "source": [
    "import numpy as np\n",
    "#import itertools\n",
    "from collections import Counter"
   ]
  },
  {
   "cell_type": "code",
   "execution_count": 22,
   "id": "954e715b",
   "metadata": {},
   "outputs": [
    {
     "name": "stdout",
     "output_type": "stream",
     "text": [
      "1 2 3 4 5 6\n",
      "2\n"
     ]
    }
   ],
   "source": [
    "arr = list(map(int, input().split()))\n",
    "k = int(input())"
   ]
  },
  {
   "cell_type": "code",
   "execution_count": 23,
   "id": "9156d8d0",
   "metadata": {},
   "outputs": [
    {
     "name": "stdout",
     "output_type": "stream",
     "text": [
      "6.416666666666667\n"
     ]
    }
   ],
   "source": [
    "cnt = Counter(arr)\n",
    "M = k*np.mean(arr) # мат ожидание суммы = сумме мат ожиданий\n",
    "M_pairs = 0\n",
    "\n",
    "# мат ожидание суммы пар одинаковых элементов, т.к. элементы одинаковы то их матожидание равно значению элемента \n",
    "for val, count in cnt.items():\n",
    "    M_pairs += (k-1)*val*(count/len(arr))**2\n",
    "print(M-M_pairs)"
   ]
  },
  {
   "cell_type": "code",
   "execution_count": 10,
   "id": "ae456074",
   "metadata": {},
   "outputs": [],
   "source": [
    "Mx = np.mean(arr)*k"
   ]
  },
  {
   "cell_type": "code",
   "execution_count": 11,
   "id": "5c6e6760",
   "metadata": {},
   "outputs": [
    {
     "data": {
      "text/plain": [
       "3.3333333333333335"
      ]
     },
     "execution_count": 11,
     "metadata": {},
     "output_type": "execute_result"
    }
   ],
   "source": [
    "Mx"
   ]
  },
  {
   "cell_type": "code",
   "execution_count": 17,
   "id": "74045e15",
   "metadata": {},
   "outputs": [],
   "source": [
    "# combinations = list(map(list, itertools.product(arr, repeat=k)))\n",
    "\n",
    "# # Filter combinations to meet the condition\n",
    "\n",
    "# for c in combinations:\n",
    "#     for i in range(1, len(c)):\n",
    "#         if c[i] == c[i-1]:\n",
    "#             c[i-1] = 0\n",
    "#     c.append(np.sum(c))\n",
    "\n",
    "# # Print all combinations \n",
    "# print(np.mean(np.array(combinations)[:,-1]))"
   ]
  },
  {
   "cell_type": "code",
   "execution_count": 12,
   "id": "159bb925",
   "metadata": {},
   "outputs": [],
   "source": [
    "combinations = list(map(list, itertools.product(arr, repeat=k)))"
   ]
  },
  {
   "cell_type": "code",
   "execution_count": 16,
   "id": "c6d5a496",
   "metadata": {},
   "outputs": [
    {
     "data": {
      "text/plain": [
       "3.3333333333333335"
      ]
     },
     "execution_count": 16,
     "metadata": {},
     "output_type": "execute_result"
    }
   ],
   "source": [
    "np.mean(np.sum(combinations, axis=1))"
   ]
  },
  {
   "cell_type": "markdown",
   "id": "a125a390",
   "metadata": {},
   "source": [
    "# Интерполяция"
   ]
  },
  {
   "cell_type": "code",
   "execution_count": null,
   "id": "dc96fad9",
   "metadata": {},
   "outputs": [],
   "source": [
    "# Нужно найти коэффициенты полинома (с помощью модели найти их приближение)\n",
    "# Полином 2 степени из 5 переменных, "
   ]
  },
  {
   "cell_type": "code",
   "execution_count": 1,
   "id": "8334bebc",
   "metadata": {},
   "outputs": [],
   "source": [
    "from sklearn.linear_model import LinearRegression\n",
    "import numpy as np"
   ]
  },
  {
   "cell_type": "code",
   "execution_count": 28,
   "id": "3ac59d58",
   "metadata": {},
   "outputs": [],
   "source": [
    "def get_polynom(values):\n",
    "    a,b,c,d,e = values\n",
    "    return [a**2, b**2, c**2, d**2, e**2,\n",
    "        2*a*b, 2*a*c, 2*a*d, 2*a*e,\n",
    "        2*b*c, 2*b*d, 2*b*e,\n",
    "        2*c*d, 2*c*e,\n",
    "        2*d*e,\n",
    "        a,b,c,d,e\n",
    "    ]"
   ]
  },
  {
   "cell_type": "code",
   "execution_count": 38,
   "id": "ffaa5b3e",
   "metadata": {},
   "outputs": [],
   "source": [
    "data = []\n",
    "with open('input.txt', 'r') as f:\n",
    "    for line in f:\n",
    "        data.append(list(map(float, line.split('\\t'))))"
   ]
  },
  {
   "cell_type": "code",
   "execution_count": 45,
   "id": "6dcdf132",
   "metadata": {},
   "outputs": [],
   "source": [
    "X_train = []\n",
    "Y_train = []\n",
    "X_test = []\n",
    "\n",
    "for i in range(2):\n",
    "    X_train.append(get_polynom(data[i][:5]))\n",
    "    Y_train.append(data[i][5])\n",
    "    X_test.append(get_polynom(data[i+2]))"
   ]
  },
  {
   "cell_type": "code",
   "execution_count": 46,
   "id": "92ffa464",
   "metadata": {},
   "outputs": [],
   "source": [
    "X_train = np.array(X_train)\n",
    "Y_train = np.array(Y_train)\n",
    "X_test = np.array(X_test)"
   ]
  },
  {
   "cell_type": "code",
   "execution_count": 48,
   "id": "87686a31",
   "metadata": {},
   "outputs": [],
   "source": [
    "reg = LinearRegression().fit(X_train, Y_train)"
   ]
  },
  {
   "cell_type": "code",
   "execution_count": 51,
   "id": "8b75a6eb",
   "metadata": {},
   "outputs": [
    {
     "name": "stdout",
     "output_type": "stream",
     "text": [
      "10.615158282817541\n",
      "11.037293062497785\n"
     ]
    }
   ],
   "source": [
    "for pred in reg.predict(X_test):\n",
    "    print(pred)"
   ]
  },
  {
   "cell_type": "markdown",
   "id": "de53b306",
   "metadata": {},
   "source": [
    "# Коллекция Статуэток"
   ]
  },
  {
   "cell_type": "code",
   "execution_count": 12,
   "id": "d4ca69bd",
   "metadata": {},
   "outputs": [],
   "source": [
    "import math\n",
    "from collections import deque"
   ]
  },
  {
   "cell_type": "code",
   "execution_count": 13,
   "id": "b3d53e4f",
   "metadata": {
    "scrolled": true
   },
   "outputs": [
    {
     "ename": "KeyboardInterrupt",
     "evalue": "Interrupted by user",
     "output_type": "error",
     "traceback": [
      "\u001b[1;31m---------------------------------------------------------------------------\u001b[0m",
      "\u001b[1;31mKeyboardInterrupt\u001b[0m                         Traceback (most recent call last)",
      "Cell \u001b[1;32mIn[13], line 1\u001b[0m\n\u001b[1;32m----> 1\u001b[0m n, k \u001b[38;5;241m=\u001b[39m \u001b[38;5;28mmap\u001b[39m(\u001b[38;5;28mint\u001b[39m, \u001b[38;5;28;43minput\u001b[39;49m\u001b[43m(\u001b[49m\u001b[43m)\u001b[49m\u001b[38;5;241m.\u001b[39msplit())\n\u001b[0;32m      2\u001b[0m arr \u001b[38;5;241m=\u001b[39m \u001b[38;5;28mlist\u001b[39m(\u001b[38;5;28mmap\u001b[39m(\u001b[38;5;28mint\u001b[39m, \u001b[38;5;28minput\u001b[39m()\u001b[38;5;241m.\u001b[39msplit()))\n",
      "File \u001b[1;32m~\\AppData\\Local\\Programs\\Python\\Python312\\Lib\\site-packages\\ipykernel\\kernelbase.py:1282\u001b[0m, in \u001b[0;36mKernel.raw_input\u001b[1;34m(self, prompt)\u001b[0m\n\u001b[0;32m   1280\u001b[0m     msg \u001b[38;5;241m=\u001b[39m \u001b[38;5;124m\"\u001b[39m\u001b[38;5;124mraw_input was called, but this frontend does not support input requests.\u001b[39m\u001b[38;5;124m\"\u001b[39m\n\u001b[0;32m   1281\u001b[0m     \u001b[38;5;28;01mraise\u001b[39;00m StdinNotImplementedError(msg)\n\u001b[1;32m-> 1282\u001b[0m \u001b[38;5;28;01mreturn\u001b[39;00m \u001b[38;5;28;43mself\u001b[39;49m\u001b[38;5;241;43m.\u001b[39;49m\u001b[43m_input_request\u001b[49m\u001b[43m(\u001b[49m\n\u001b[0;32m   1283\u001b[0m \u001b[43m    \u001b[49m\u001b[38;5;28;43mstr\u001b[39;49m\u001b[43m(\u001b[49m\u001b[43mprompt\u001b[49m\u001b[43m)\u001b[49m\u001b[43m,\u001b[49m\n\u001b[0;32m   1284\u001b[0m \u001b[43m    \u001b[49m\u001b[38;5;28;43mself\u001b[39;49m\u001b[38;5;241;43m.\u001b[39;49m\u001b[43m_parent_ident\u001b[49m\u001b[43m[\u001b[49m\u001b[38;5;124;43m\"\u001b[39;49m\u001b[38;5;124;43mshell\u001b[39;49m\u001b[38;5;124;43m\"\u001b[39;49m\u001b[43m]\u001b[49m\u001b[43m,\u001b[49m\n\u001b[0;32m   1285\u001b[0m \u001b[43m    \u001b[49m\u001b[38;5;28;43mself\u001b[39;49m\u001b[38;5;241;43m.\u001b[39;49m\u001b[43mget_parent\u001b[49m\u001b[43m(\u001b[49m\u001b[38;5;124;43m\"\u001b[39;49m\u001b[38;5;124;43mshell\u001b[39;49m\u001b[38;5;124;43m\"\u001b[39;49m\u001b[43m)\u001b[49m\u001b[43m,\u001b[49m\n\u001b[0;32m   1286\u001b[0m \u001b[43m    \u001b[49m\u001b[43mpassword\u001b[49m\u001b[38;5;241;43m=\u001b[39;49m\u001b[38;5;28;43;01mFalse\u001b[39;49;00m\u001b[43m,\u001b[49m\n\u001b[0;32m   1287\u001b[0m \u001b[43m\u001b[49m\u001b[43m)\u001b[49m\n",
      "File \u001b[1;32m~\\AppData\\Local\\Programs\\Python\\Python312\\Lib\\site-packages\\ipykernel\\kernelbase.py:1325\u001b[0m, in \u001b[0;36mKernel._input_request\u001b[1;34m(self, prompt, ident, parent, password)\u001b[0m\n\u001b[0;32m   1322\u001b[0m \u001b[38;5;28;01mexcept\u001b[39;00m \u001b[38;5;167;01mKeyboardInterrupt\u001b[39;00m:\n\u001b[0;32m   1323\u001b[0m     \u001b[38;5;66;03m# re-raise KeyboardInterrupt, to truncate traceback\u001b[39;00m\n\u001b[0;32m   1324\u001b[0m     msg \u001b[38;5;241m=\u001b[39m \u001b[38;5;124m\"\u001b[39m\u001b[38;5;124mInterrupted by user\u001b[39m\u001b[38;5;124m\"\u001b[39m\n\u001b[1;32m-> 1325\u001b[0m     \u001b[38;5;28;01mraise\u001b[39;00m \u001b[38;5;167;01mKeyboardInterrupt\u001b[39;00m(msg) \u001b[38;5;28;01mfrom\u001b[39;00m \u001b[38;5;28;01mNone\u001b[39;00m\n\u001b[0;32m   1326\u001b[0m \u001b[38;5;28;01mexcept\u001b[39;00m \u001b[38;5;167;01mException\u001b[39;00m:\n\u001b[0;32m   1327\u001b[0m     \u001b[38;5;28mself\u001b[39m\u001b[38;5;241m.\u001b[39mlog\u001b[38;5;241m.\u001b[39mwarning(\u001b[38;5;124m\"\u001b[39m\u001b[38;5;124mInvalid Message:\u001b[39m\u001b[38;5;124m\"\u001b[39m, exc_info\u001b[38;5;241m=\u001b[39m\u001b[38;5;28;01mTrue\u001b[39;00m)\n",
      "\u001b[1;31mKeyboardInterrupt\u001b[0m: Interrupted by user"
     ]
    }
   ],
   "source": [
    "n, k = map(int, input().split())\n",
    "arr = list(map(int, input().split()))"
   ]
  },
  {
   "cell_type": "code",
   "execution_count": 31,
   "id": "bbc73b47",
   "metadata": {},
   "outputs": [],
   "source": [
    "deq.append(100)"
   ]
  },
  {
   "cell_type": "code",
   "execution_count": 32,
   "id": "434960cf",
   "metadata": {},
   "outputs": [
    {
     "data": {
      "text/plain": [
       "deque([2, 6, 3, 3, 1, 100])"
      ]
     },
     "execution_count": 32,
     "metadata": {},
     "output_type": "execute_result"
    }
   ],
   "source": [
    "deq"
   ]
  },
  {
   "cell_type": "code",
   "execution_count": 2,
   "id": "ab50c6ec",
   "metadata": {},
   "outputs": [
    {
     "name": "stdout",
     "output_type": "stream",
     "text": [
      "7 7\n",
      "1 2 3 4 6 5 7\n",
      "28\n"
     ]
    }
   ],
   "source": [
    "n, k = map(int, input().split())\n",
    "arr = list(map(int, input().split()))\n",
    "\n",
    "needed_set = set([i for i in range(1,k+1)])\n",
    "cur_sum = 0\n",
    "min_sum = math.inf\n",
    "deq = deque()\n",
    "dct = {}\n",
    "for i in arr:\n",
    "    if len(dct) < k:\n",
    "        cur_sum += i\n",
    "        deq.append(i)\n",
    "        if i in needed_set:\n",
    "            dct[i] = dct.get(i,0) + 1\n",
    "        if len(dct) == k:\n",
    "            while True:\n",
    "                cur = deq[0]\n",
    "                if cur not in dct or dct[cur] > 1:\n",
    "                    deq.popleft()\n",
    "                    cur_sum -= cur\n",
    "                    if cur in dct:\n",
    "                        dct[cur] -= 1\n",
    "                else:\n",
    "                    break\n",
    "    else:\n",
    "        if i in needed_set:\n",
    "            cur_sum += i\n",
    "            deq.append(i)\n",
    "            dct[i] = dct.get(i,0) + 1\n",
    "            while deq:\n",
    "                cur = deq[0]\n",
    "                if cur not in dct or dct[cur] > 1:\n",
    "                    deq.popleft()\n",
    "                    cur_sum -= cur\n",
    "                    if cur in dct:\n",
    "                        dct[cur] -= 1\n",
    "                else:\n",
    "                    break\n",
    "        else:\n",
    "            cur_sum += i\n",
    "            deq.append(i)\n",
    "    if cur_sum < min_sum and len(dct) == k:\n",
    "        min_sum = cur_sum\n",
    "\n",
    "print(min_sum)"
   ]
  },
  {
   "cell_type": "code",
   "execution_count": 4,
   "id": "c00ef74b",
   "metadata": {},
   "outputs": [],
   "source": [
    "import sys\n",
    "\n",
    "def recursive_find(arr, left, right, needed_set):\n",
    "    if left >= right:\n",
    "        return -1\n",
    "    \n",
    "    if needed_set.issubset(set(arr[left: right])):\n",
    "        #print(left, right, sum(arr[left: right]))\n",
    "        right_sum = recursive_find(arr, left, right-1, needed_set)\n",
    "        left_sum = recursive_find(arr, left+1, right, needed_set)\n",
    "        if right_sum == -1 and left_sum == -1:\n",
    "            return sum(arr[left: right])\n",
    "        elif left_sum == -1:\n",
    "            return right_sum\n",
    "        elif right_sum == -1:\n",
    "            return left_sum\n",
    "        else:\n",
    "            #print(\"return min\")\n",
    "            return min(left_sum, right_sum)\n",
    "    else:\n",
    "        return -1"
   ]
  },
  {
   "cell_type": "code",
   "execution_count": 10,
   "id": "42f9c7c6",
   "metadata": {},
   "outputs": [],
   "source": [
    "def main():\n",
    "    n, k = map(int, input().split())\n",
    "    a = list(map(int, input().split()))\n",
    "\n",
    "    needed_set = set([i for i in range(1,k+1)])\n",
    "    print(recursive_find(a, 0, len(a), needed_set))"
   ]
  },
  {
   "cell_type": "code",
   "execution_count": 11,
   "id": "d0a8ae83",
   "metadata": {},
   "outputs": [
    {
     "name": "stdout",
     "output_type": "stream",
     "text": [
      "6 3\n",
      "1 2 2 3 3 1\n",
      "8\n"
     ]
    }
   ],
   "source": [
    "main()"
   ]
  },
  {
   "cell_type": "code",
   "execution_count": 21,
   "id": "9e9dd53c",
   "metadata": {
    "scrolled": true
   },
   "outputs": [
    {
     "name": "stdout",
     "output_type": "stream",
     "text": [
      "5 3\n",
      "1 2 5 4 3\n",
      "8\n"
     ]
    }
   ],
   "source": [
    "n, k = map(int, input().split())\n",
    "statuettes = list(map(int, input().split()))\n",
    "\n",
    "counts = {}\n",
    "types_found = 0\n",
    "left = 0\n",
    "min_cost = float('inf')\n",
    "total_cost = 0\n",
    "\n",
    "for right in range(n):\n",
    "    if statuettes[right] not in counts or counts[statuettes[right]] == 0:\n",
    "        types_found += 1\n",
    "    counts[statuettes[right]] = counts.get(statuettes[right], 0) + 1\n",
    "    total_cost += statuettes[right]\n",
    "\n",
    "    while types_found == k:\n",
    "        min_cost = min(min_cost, total_cost)\n",
    "        counts[statuettes[left]] -= 1\n",
    "        total_cost -= statuettes[left]\n",
    "        if counts[statuettes[left]] == 0:\n",
    "            types_found -= 1\n",
    "        left += 1\n",
    "\n",
    "print(min_cost)\n"
   ]
  },
  {
   "cell_type": "code",
   "execution_count": 19,
   "id": "e4c08503",
   "metadata": {},
   "outputs": [
    {
     "data": {
      "text/plain": [
       "{1: 1, 2: 1, 3: 0}"
      ]
     },
     "execution_count": 19,
     "metadata": {},
     "output_type": "execute_result"
    }
   ],
   "source": [
    "counts"
   ]
  },
  {
   "cell_type": "markdown",
   "id": "9a56448f",
   "metadata": {},
   "source": [
    "# Биометрия"
   ]
  },
  {
   "cell_type": "code",
   "execution_count": 37,
   "id": "56e660b3",
   "metadata": {},
   "outputs": [],
   "source": [
    "import pandas as pd\n",
    "import numpy as np\n",
    "import librosa\n",
    "import os\n",
    "from sklearn.model_selection import train_test_split"
   ]
  },
  {
   "cell_type": "code",
   "execution_count": 46,
   "id": "f73cfd8b",
   "metadata": {},
   "outputs": [],
   "source": [
    "from sklearn.naive_bayes import GaussianNB\n",
    "from sklearn.linear_model import LogisticRegression\n",
    "from sklearn.neighbors import KNeighborsClassifier\n",
    "from sklearn.ensemble import RandomForestClassifier\n",
    "from sklearn.svm import SVC\n",
    "from sklearn.neural_network import MLPClassifier\n",
    "from xgboost import XGBClassifier\n",
    "from sklearn.metrics import confusion_matrix, accuracy_score, roc_auc_score, roc_curve"
   ]
  },
  {
   "cell_type": "code",
   "execution_count": 15,
   "id": "6ec2f02f",
   "metadata": {},
   "outputs": [],
   "source": [
    "train_labels = pd.read_csv(\"C:/Users/Safuan/Python/YANDEX contest/train/targets.tsv\", sep='\\t', names=['name', 'label'])"
   ]
  },
  {
   "cell_type": "code",
   "execution_count": 16,
   "id": "e6b1217f",
   "metadata": {},
   "outputs": [
    {
     "data": {
      "text/html": [
       "<div>\n",
       "<style scoped>\n",
       "    .dataframe tbody tr th:only-of-type {\n",
       "        vertical-align: middle;\n",
       "    }\n",
       "\n",
       "    .dataframe tbody tr th {\n",
       "        vertical-align: top;\n",
       "    }\n",
       "\n",
       "    .dataframe thead th {\n",
       "        text-align: right;\n",
       "    }\n",
       "</style>\n",
       "<table border=\"1\" class=\"dataframe\">\n",
       "  <thead>\n",
       "    <tr style=\"text-align: right;\">\n",
       "      <th></th>\n",
       "      <th>name</th>\n",
       "      <th>label</th>\n",
       "    </tr>\n",
       "  </thead>\n",
       "  <tbody>\n",
       "    <tr>\n",
       "      <th>0</th>\n",
       "      <td>5d1f7e43366513a1d0a6ec5640c3dc24</td>\n",
       "      <td>1</td>\n",
       "    </tr>\n",
       "    <tr>\n",
       "      <th>1</th>\n",
       "      <td>9a701a4536a05b6610a590a9fe702ed8</td>\n",
       "      <td>1</td>\n",
       "    </tr>\n",
       "    <tr>\n",
       "      <th>2</th>\n",
       "      <td>cad0b8547008d1524c1a0e5fd51f9908</td>\n",
       "      <td>1</td>\n",
       "    </tr>\n",
       "    <tr>\n",
       "      <th>3</th>\n",
       "      <td>4bbe607e7dc95460e2cc1a6ee5f4dfa6</td>\n",
       "      <td>0</td>\n",
       "    </tr>\n",
       "    <tr>\n",
       "      <th>4</th>\n",
       "      <td>30fb32cba90b34af26f3f14f5d636805</td>\n",
       "      <td>0</td>\n",
       "    </tr>\n",
       "    <tr>\n",
       "      <th>...</th>\n",
       "      <td>...</td>\n",
       "      <td>...</td>\n",
       "    </tr>\n",
       "    <tr>\n",
       "      <th>13931</th>\n",
       "      <td>215443bcce2003d58d7dc6cd53af73ed</td>\n",
       "      <td>1</td>\n",
       "    </tr>\n",
       "    <tr>\n",
       "      <th>13932</th>\n",
       "      <td>d26e5ebee3589530a4ec735ba1baab83</td>\n",
       "      <td>0</td>\n",
       "    </tr>\n",
       "    <tr>\n",
       "      <th>13933</th>\n",
       "      <td>b9ae9428d4d7d279068aea06365d5736</td>\n",
       "      <td>1</td>\n",
       "    </tr>\n",
       "    <tr>\n",
       "      <th>13934</th>\n",
       "      <td>3da22010bcdd5b47d7f2d3ceea190195</td>\n",
       "      <td>0</td>\n",
       "    </tr>\n",
       "    <tr>\n",
       "      <th>13935</th>\n",
       "      <td>f8ef0441ebf79b817df790bb72d667c4</td>\n",
       "      <td>0</td>\n",
       "    </tr>\n",
       "  </tbody>\n",
       "</table>\n",
       "<p>13936 rows × 2 columns</p>\n",
       "</div>"
      ],
      "text/plain": [
       "                                   name  label\n",
       "0      5d1f7e43366513a1d0a6ec5640c3dc24      1\n",
       "1      9a701a4536a05b6610a590a9fe702ed8      1\n",
       "2      cad0b8547008d1524c1a0e5fd51f9908      1\n",
       "3      4bbe607e7dc95460e2cc1a6ee5f4dfa6      0\n",
       "4      30fb32cba90b34af26f3f14f5d636805      0\n",
       "...                                 ...    ...\n",
       "13931  215443bcce2003d58d7dc6cd53af73ed      1\n",
       "13932  d26e5ebee3589530a4ec735ba1baab83      0\n",
       "13933  b9ae9428d4d7d279068aea06365d5736      1\n",
       "13934  3da22010bcdd5b47d7f2d3ceea190195      0\n",
       "13935  f8ef0441ebf79b817df790bb72d667c4      0\n",
       "\n",
       "[13936 rows x 2 columns]"
      ]
     },
     "execution_count": 16,
     "metadata": {},
     "output_type": "execute_result"
    }
   ],
   "source": [
    "train_labels"
   ]
  },
  {
   "cell_type": "code",
   "execution_count": 7,
   "id": "e7f37431",
   "metadata": {},
   "outputs": [],
   "source": [
    "def preprocess_audio(audio_file_path):\n",
    "    audio, sr = librosa.load(audio_file_path)\n",
    "    mfcc_mean = np.mean(librosa.feature.mfcc(y=audio, sr=sr), axis=1)\n",
    "    return abs(mfcc_mean)"
   ]
  },
  {
   "cell_type": "code",
   "execution_count": 29,
   "id": "7ff8029e",
   "metadata": {},
   "outputs": [],
   "source": [
    "directory = \"C:/Users/Safuan/Python/YANDEX contest/train/\"\n",
    "data_train = []\n",
    "label_train = []\n",
    "\n",
    "for index, row in train_labels.iterrows():\n",
    "    row['name'], row['label']\n",
    "    data_train.append(preprocess_audio(f\"{directory}/{row['name']}.wav\"))\n",
    "    label_train.append(row['label'])"
   ]
  },
  {
   "cell_type": "code",
   "execution_count": 20,
   "id": "614562b7",
   "metadata": {},
   "outputs": [
    {
     "name": "stderr",
     "output_type": "stream",
     "text": [
      "C:\\Users\\Safuan\\AppData\\Local\\Temp\\ipykernel_20172\\4012140830.py:1: VisibleDeprecationWarning: Creating an ndarray from ragged nested sequences (which is a list-or-tuple of lists-or-tuples-or ndarrays with different lengths or shapes) is deprecated. If you meant to do this, you must specify 'dtype=object' when creating the ndarray.\n",
      "  data = np.array(data)\n"
     ]
    }
   ],
   "source": [
    "data = np.array(data)"
   ]
  },
  {
   "cell_type": "code",
   "execution_count": 35,
   "id": "18f60eaa",
   "metadata": {},
   "outputs": [
    {
     "data": {
      "text/plain": [
       "(13936, 20)"
      ]
     },
     "execution_count": 35,
     "metadata": {},
     "output_type": "execute_result"
    }
   ],
   "source": [
    "np.array(data_train).shape"
   ]
  },
  {
   "cell_type": "code",
   "execution_count": 42,
   "id": "a91475e1",
   "metadata": {},
   "outputs": [],
   "source": [
    "X_train, X_val, y_train, y_val = train_test_split(data_train, label_train, test_size = 0.3, random_state=42, stratify=label_train)"
   ]
  },
  {
   "cell_type": "code",
   "execution_count": 47,
   "id": "4cfe6a48",
   "metadata": {},
   "outputs": [],
   "source": [
    "def model_assess(model, title = \"Default\"):\n",
    "    model.fit(X_train, y_train)\n",
    "    preds = model.predict(X_val)\n",
    "    print('Accuracy', title, ':', round(accuracy_score(y_val, preds), 5), '\\n')"
   ]
  },
  {
   "cell_type": "code",
   "execution_count": 48,
   "id": "9370b4bf",
   "metadata": {},
   "outputs": [
    {
     "name": "stdout",
     "output_type": "stream",
     "text": [
      "Accuracy Naive Bayes : 0.68811 \n",
      "\n",
      "Accuracy KNN : 0.77087 \n",
      "\n",
      "Accuracy Support Vector Machine : 0.63262 \n",
      "\n",
      "Accuracy Logistic Regression : 0.7778 \n",
      "\n"
     ]
    },
    {
     "name": "stderr",
     "output_type": "stream",
     "text": [
      "C:\\Users\\Safuan\\AppData\\Local\\Programs\\Python\\Python310\\lib\\site-packages\\sklearn\\linear_model\\_logistic.py:460: ConvergenceWarning: lbfgs failed to converge (status=1):\n",
      "STOP: TOTAL NO. of ITERATIONS REACHED LIMIT.\n",
      "\n",
      "Increase the number of iterations (max_iter) or scale the data as shown in:\n",
      "    https://scikit-learn.org/stable/modules/preprocessing.html\n",
      "Please also refer to the documentation for alternative solver options:\n",
      "    https://scikit-learn.org/stable/modules/linear_model.html#logistic-regression\n",
      "  n_iter_i = _check_optimize_result(\n"
     ]
    },
    {
     "name": "stdout",
     "output_type": "stream",
     "text": [
      "Accuracy Random Forest : 0.83018 \n",
      "\n"
     ]
    },
    {
     "name": "stderr",
     "output_type": "stream",
     "text": [
      "C:\\Users\\Safuan\\AppData\\Local\\Programs\\Python\\Python310\\lib\\site-packages\\sklearn\\neural_network\\_multilayer_perceptron.py:546: ConvergenceWarning: lbfgs failed to converge (status=1):\n",
      "STOP: TOTAL NO. of ITERATIONS REACHED LIMIT.\n",
      "\n",
      "Increase the number of iterations (max_iter) or scale the data as shown in:\n",
      "    https://scikit-learn.org/stable/modules/preprocessing.html\n",
      "  self.n_iter_ = _check_optimize_result(\"lbfgs\", opt_res, self.max_iter)\n"
     ]
    },
    {
     "name": "stdout",
     "output_type": "stream",
     "text": [
      "Accuracy Neural Nets : 0.77924 \n",
      "\n",
      "Accuracy XGBClassifier : 0.88113 \n",
      "\n"
     ]
    }
   ],
   "source": [
    "nb = GaussianNB()\n",
    "model_assess(nb, \"Naive Bayes\")\n",
    "# алгоритм k-ближайших соседей\n",
    "knn = KNeighborsClassifier(n_neighbors=10)\n",
    "model_assess(knn, \"KNN\")\n",
    "# метод опорных векторов\n",
    "svm = SVC(decision_function_shape=\"ovo\")\n",
    "model_assess(svm, \"Support Vector Machine\")\n",
    "# логистическая регрессия\n",
    "lg = LogisticRegression(random_state=0, solver='lbfgs', multi_class='multinomial')\n",
    "model_assess(lg, \"Logistic Regression\")\n",
    "# случайный лес\n",
    "rforest = RandomForestClassifier(n_estimators=1000, max_depth=10, random_state=0)\n",
    "model_assess(rforest, \"Random Forest\")\n",
    "# многослойный персептрон\n",
    "nn = MLPClassifier(solver='lbfgs', alpha=1e-5, hidden_layer_sizes=(5000, 10), random_state=1)\n",
    "model_assess(nn, \"Neural Nets\")\n",
    "# деревья с градиентным бустингом\n",
    "xgb = XGBClassifier(n_estimators=1000)\n",
    "model_assess(xgb, \"XGBClassifier\")"
   ]
  },
  {
   "cell_type": "code",
   "execution_count": 51,
   "id": "9d81ac4d",
   "metadata": {},
   "outputs": [],
   "source": [
    "import numpy as np\n",
    "import matplotlib.pyplot as plt\n",
    "\n",
    "# Feature extraction\n",
    "import scipy\n",
    "import librosa\n",
    "import python_speech_features as mfcc\n",
    "import os\n",
    "from scipy.io.wavfile import read\n",
    "\n",
    "# Model training\n",
    "from sklearn.mixture import GaussianMixture as GMM\n",
    "from sklearn import preprocessing\n",
    "import pickle\n",
    "\n",
    "# Live recording\n",
    "import sounddevice as sd\n",
    "import soundfile as sf"
   ]
  },
  {
   "cell_type": "code",
   "execution_count": 52,
   "id": "cfa802e4",
   "metadata": {},
   "outputs": [],
   "source": [
    "def get_MFCC(sr,audio):\n",
    "    \n",
    "    features = mfcc.mfcc(audio, sr, 0.025, 0.01, 13, appendEnergy = False)\n",
    "    features = preprocessing.scale(features)\n",
    "    \n",
    "    return features"
   ]
  },
  {
   "cell_type": "code",
   "execution_count": 53,
   "id": "6848a8be",
   "metadata": {},
   "outputs": [],
   "source": [
    "def get_features(source):\n",
    "    \n",
    "    # Split files\n",
    "    files = [os.path.join(source,f) for f in os.listdir(source) if f.endswith('.wav')]\n",
    "    len_train = int(len(files)*0.8)\n",
    "    train_files = files[:len_train]\n",
    "    test_files = files[len_train:]\n",
    "    \n",
    "    # Train features\n",
    "    features_train = []\n",
    "    for f in train_files:\n",
    "        sr, audio = read(f)\n",
    "        vector = get_MFCC(sr,audio)\n",
    "        if len(features_train) == 0:\n",
    "            features_train = vector\n",
    "        else:\n",
    "            features_train = np.vstack((features_train, vector))\n",
    "            \n",
    "    # Test features  \n",
    "    features_test = []\n",
    "    for f in test_files:\n",
    "        sr, audio = read(f)\n",
    "        vector = get_MFCC(sr,audio)\n",
    "        if len(features_test) == 0:\n",
    "            features_test = vector\n",
    "        else:\n",
    "            features_test = np.vstack((features_test, vector))\n",
    "            \n",
    "    return features_train, features_test"
   ]
  },
  {
   "cell_type": "code",
   "execution_count": 54,
   "id": "52ab0a59",
   "metadata": {},
   "outputs": [
    {
     "data": {
      "text/html": [
       "<style>#sk-container-id-1 {color: black;}#sk-container-id-1 pre{padding: 0;}#sk-container-id-1 div.sk-toggleable {background-color: white;}#sk-container-id-1 label.sk-toggleable__label {cursor: pointer;display: block;width: 100%;margin-bottom: 0;padding: 0.3em;box-sizing: border-box;text-align: center;}#sk-container-id-1 label.sk-toggleable__label-arrow:before {content: \"▸\";float: left;margin-right: 0.25em;color: #696969;}#sk-container-id-1 label.sk-toggleable__label-arrow:hover:before {color: black;}#sk-container-id-1 div.sk-estimator:hover label.sk-toggleable__label-arrow:before {color: black;}#sk-container-id-1 div.sk-toggleable__content {max-height: 0;max-width: 0;overflow: hidden;text-align: left;background-color: #f0f8ff;}#sk-container-id-1 div.sk-toggleable__content pre {margin: 0.2em;color: black;border-radius: 0.25em;background-color: #f0f8ff;}#sk-container-id-1 input.sk-toggleable__control:checked~div.sk-toggleable__content {max-height: 200px;max-width: 100%;overflow: auto;}#sk-container-id-1 input.sk-toggleable__control:checked~label.sk-toggleable__label-arrow:before {content: \"▾\";}#sk-container-id-1 div.sk-estimator input.sk-toggleable__control:checked~label.sk-toggleable__label {background-color: #d4ebff;}#sk-container-id-1 div.sk-label input.sk-toggleable__control:checked~label.sk-toggleable__label {background-color: #d4ebff;}#sk-container-id-1 input.sk-hidden--visually {border: 0;clip: rect(1px 1px 1px 1px);clip: rect(1px, 1px, 1px, 1px);height: 1px;margin: -1px;overflow: hidden;padding: 0;position: absolute;width: 1px;}#sk-container-id-1 div.sk-estimator {font-family: monospace;background-color: #f0f8ff;border: 1px dotted black;border-radius: 0.25em;box-sizing: border-box;margin-bottom: 0.5em;}#sk-container-id-1 div.sk-estimator:hover {background-color: #d4ebff;}#sk-container-id-1 div.sk-parallel-item::after {content: \"\";width: 100%;border-bottom: 1px solid gray;flex-grow: 1;}#sk-container-id-1 div.sk-label:hover label.sk-toggleable__label {background-color: #d4ebff;}#sk-container-id-1 div.sk-serial::before {content: \"\";position: absolute;border-left: 1px solid gray;box-sizing: border-box;top: 0;bottom: 0;left: 50%;z-index: 0;}#sk-container-id-1 div.sk-serial {display: flex;flex-direction: column;align-items: center;background-color: white;padding-right: 0.2em;padding-left: 0.2em;position: relative;}#sk-container-id-1 div.sk-item {position: relative;z-index: 1;}#sk-container-id-1 div.sk-parallel {display: flex;align-items: stretch;justify-content: center;background-color: white;position: relative;}#sk-container-id-1 div.sk-item::before, #sk-container-id-1 div.sk-parallel-item::before {content: \"\";position: absolute;border-left: 1px solid gray;box-sizing: border-box;top: 0;bottom: 0;left: 50%;z-index: -1;}#sk-container-id-1 div.sk-parallel-item {display: flex;flex-direction: column;z-index: 1;position: relative;background-color: white;}#sk-container-id-1 div.sk-parallel-item:first-child::after {align-self: flex-end;width: 50%;}#sk-container-id-1 div.sk-parallel-item:last-child::after {align-self: flex-start;width: 50%;}#sk-container-id-1 div.sk-parallel-item:only-child::after {width: 0;}#sk-container-id-1 div.sk-dashed-wrapped {border: 1px dashed gray;margin: 0 0.4em 0.5em 0.4em;box-sizing: border-box;padding-bottom: 0.4em;background-color: white;}#sk-container-id-1 div.sk-label label {font-family: monospace;font-weight: bold;display: inline-block;line-height: 1.2em;}#sk-container-id-1 div.sk-label-container {text-align: center;}#sk-container-id-1 div.sk-container {/* jupyter's `normalize.less` sets `[hidden] { display: none; }` but bootstrap.min.css set `[hidden] { display: none !important; }` so we also need the `!important` here to be able to override the default hidden behavior on the sphinx rendered scikit-learn.org. See: https://github.com/scikit-learn/scikit-learn/issues/21755 */display: inline-block !important;position: relative;}#sk-container-id-1 div.sk-text-repr-fallback {display: none;}</style><div id=\"sk-container-id-1\" class=\"sk-top-container\"><div class=\"sk-text-repr-fallback\"><pre>GaussianMixture(covariance_type=&#x27;diag&#x27;, max_iter=200, n_components=8, n_init=3)</pre><b>In a Jupyter environment, please rerun this cell to show the HTML representation or trust the notebook. <br />On GitHub, the HTML representation is unable to render, please try loading this page with nbviewer.org.</b></div><div class=\"sk-container\" hidden><div class=\"sk-item\"><div class=\"sk-estimator sk-toggleable\"><input class=\"sk-toggleable__control sk-hidden--visually\" id=\"sk-estimator-id-1\" type=\"checkbox\" checked><label for=\"sk-estimator-id-1\" class=\"sk-toggleable__label sk-toggleable__label-arrow\">GaussianMixture</label><div class=\"sk-toggleable__content\"><pre>GaussianMixture(covariance_type=&#x27;diag&#x27;, max_iter=200, n_components=8, n_init=3)</pre></div></div></div></div></div>"
      ],
      "text/plain": [
       "GaussianMixture(covariance_type='diag', max_iter=200, n_components=8, n_init=3)"
      ]
     },
     "execution_count": 54,
     "metadata": {},
     "output_type": "execute_result"
    }
   ],
   "source": [
    "source = \"C:/Users/Safuan/Python/YANDEX contest/train/\"\n",
    "features_train_male, features_test_male = get_features(source)\n",
    "gmm_male = GMM(n_components = 8, max_iter = 200, covariance_type = 'diag', n_init = 3)\n",
    "gmm_male.fit(features_train_male)"
   ]
  },
  {
   "cell_type": "code",
   "execution_count": 57,
   "id": "b6c48f0d",
   "metadata": {},
   "outputs": [
    {
     "data": {
      "text/plain": [
       "(5746104, 13)"
      ]
     },
     "execution_count": 57,
     "metadata": {},
     "output_type": "execute_result"
    }
   ],
   "source": [
    "features_train_male.shape"
   ]
  },
  {
   "cell_type": "code",
   "execution_count": 58,
   "id": "ad5d135f",
   "metadata": {
    "scrolled": true
   },
   "outputs": [
    {
     "data": {
      "text/plain": [
       "(1446704, 13)"
      ]
     },
     "execution_count": 58,
     "metadata": {},
     "output_type": "execute_result"
    }
   ],
   "source": [
    "features_test_male.shape"
   ]
  },
  {
   "cell_type": "markdown",
   "id": "b27f9068",
   "metadata": {},
   "source": [
    "## C. Большая семья бабушки Алевтины"
   ]
  },
  {
   "cell_type": "code",
   "execution_count": 1,
   "id": "58ed83ad",
   "metadata": {},
   "outputs": [],
   "source": [
    "import numpy as np\n",
    "import itertools"
   ]
  },
  {
   "cell_type": "code",
   "execution_count": 2,
   "id": "3dce204e",
   "metadata": {},
   "outputs": [
    {
     "name": "stderr",
     "output_type": "stream",
     "text": [
      "\n",
      "KeyboardInterrupt\n",
      "\n"
     ]
    }
   ],
   "source": [
    "city, num_hous = input().split()"
   ]
  },
  {
   "cell_type": "code",
   "execution_count": null,
   "id": "a629f057",
   "metadata": {},
   "outputs": [],
   "source": [
    "np.array([1,1,0,1]) & np.array([1,0,0,1]) & np.array([0,1,0,1])"
   ]
  },
  {
   "cell_type": "code",
   "execution_count": 3,
   "id": "96bd8451",
   "metadata": {},
   "outputs": [],
   "source": [
    "s = \"XX..XXXXXXXXXXXXXXXXXXXX\"\n",
    "s1 = \"XX.XXXXX........XXXXXXXX\"\n",
    "s2 = \"X..XXXXX........XXXXXXXX\""
   ]
  },
  {
   "cell_type": "code",
   "execution_count": null,
   "id": "7282a61d",
   "metadata": {},
   "outputs": [],
   "source": [
    "np.array([0 if i == 'X' else 1 for i in s ]) & np.array([0 if i == 'X' else 1 for i in s1 ])"
   ]
  },
  {
   "cell_type": "code",
   "execution_count": null,
   "id": "63d601b4",
   "metadata": {},
   "outputs": [],
   "source": [
    "res = np.array(s) or np.array(s1)\n",
    "res = np.array(res) or np.array(s2)\n",
    "res"
   ]
  },
  {
   "cell_type": "code",
   "execution_count": 34,
   "id": "35b66c3b",
   "metadata": {},
   "outputs": [
    {
     "name": "stdout",
     "output_type": "stream",
     "text": [
      "3\n"
     ]
    }
   ],
   "source": [
    "c = int(input())"
   ]
  },
  {
   "cell_type": "code",
   "execution_count": 70,
   "id": "08f291ef",
   "metadata": {},
   "outputs": [
    {
     "name": "stdout",
     "output_type": "stream",
     "text": [
      "Moscow 1\n",
      "XXXXXXXX...........XXXXX Kvartal\n",
      "Minsk 1\n",
      "XXXXXXX...........XXXXXX Toloka\n",
      "Berlin 1\n",
      "XXXXXX...........XXXXXXX Mitte\n"
     ]
    }
   ],
   "source": [
    "data = {}\n",
    "for i in range(c):\n",
    "    city, num_hous = input().split()\n",
    "    num_hous = int(num_hous)\n",
    "    data[city] = {}\n",
    "    for j in range(num_hous):\n",
    "        plan, name = input().split()\n",
    "        plan = [0 if sim == 'X' else 1 for sim in plan]\n",
    "        plan.append(name)\n",
    "        data[city][name] = plan"
   ]
  },
  {
   "cell_type": "code",
   "execution_count": 71,
   "id": "c4add9eb",
   "metadata": {},
   "outputs": [
    {
     "name": "stdout",
     "output_type": "stream",
     "text": [
      "1\n"
     ]
    }
   ],
   "source": [
    "m = int(input())"
   ]
  },
  {
   "cell_type": "code",
   "execution_count": 72,
   "id": "c2962068",
   "metadata": {},
   "outputs": [
    {
     "name": "stdout",
     "output_type": "stream",
     "text": [
      "3 Moscow Minsk Berlin\n",
      "Yes Kvartal Toloka Mitte\n"
     ]
    }
   ],
   "source": [
    "for i in range(m):\n",
    "    requests = input().split()\n",
    "    comb = list(itertools.product(*[list(data[name].values()) for name in requests[1:]]))\n",
    "    flag = False\n",
    "    for comb_ in comb:\n",
    "        total_mask = np.array([1]*24)\n",
    "        for mask in comb_:\n",
    "            total_mask = total_mask & np.array(mask[:-1])\n",
    "        if total_mask.sum() > 0:\n",
    "            print('Yes',*[mask[-1] for mask in comb_])\n",
    "            flag = True\n",
    "            break\n",
    "    if not flag:\n",
    "        print('No')\n",
    "            #total_mask = total_mask &"
   ]
  },
  {
   "cell_type": "code",
   "execution_count": null,
   "id": "849faa99",
   "metadata": {},
   "outputs": [],
   "source": [
    "\"\".join([str(x) for x in l])"
   ]
  },
  {
   "cell_type": "code",
   "execution_count": 68,
   "id": "5d3ba415",
   "metadata": {},
   "outputs": [
    {
     "name": "stdout",
     "output_type": "stream",
     "text": [
      "Yes 1 4 5\n"
     ]
    }
   ],
   "source": [
    "print('Yes',*[1,4,5])"
   ]
  },
  {
   "cell_type": "code",
   "execution_count": 11,
   "id": "1e97bcf8",
   "metadata": {},
   "outputs": [
    {
     "data": {
      "text/plain": [
       "dict_values([array([0, 0, 0, 0, 0, 0, 0, 0, 1, 0, 1, 0, 1, 0, 1, 0, 1, 0, 1, 0, 0, 0,\n",
       "       0, 0]), array([0, 0, 0, 0, 0, 0, 0, 0, 0, 1, 0, 1, 0, 1, 0, 1, 0, 1, 0, 1, 0, 0,\n",
       "       0, 0])])"
      ]
     },
     "execution_count": 11,
     "metadata": {},
     "output_type": "execute_result"
    }
   ],
   "source": [
    "data['Moscow'].values()"
   ]
  },
  {
   "cell_type": "code",
   "execution_count": 44,
   "id": "ddcf1469",
   "metadata": {},
   "outputs": [
    {
     "data": {
      "text/plain": [
       "[([0, 0, 0, 0, 0, 0, 0, 0, 1, 0, 1, 0, 1, 0, 1, 0, 1, 0, 1, 0, 0, 0, 0, 0],\n",
       "  [0, 0, 1, 0, 0, 0, 0, 0, 1, 1, 1, 1, 1, 1, 1, 1, 0, 0, 0, 0, 0, 0, 0, 0]),\n",
       " ([0, 0, 0, 0, 0, 0, 0, 0, 0, 1, 0, 1, 0, 1, 0, 1, 0, 1, 0, 1, 0, 0, 0, 0],\n",
       "  [0, 0, 1, 0, 0, 0, 0, 0, 1, 1, 1, 1, 1, 1, 1, 1, 0, 0, 0, 0, 0, 0, 0, 0])]"
      ]
     },
     "execution_count": 44,
     "metadata": {},
     "output_type": "execute_result"
    }
   ],
   "source": [
    "list(itertools.product(*[list(data['Moscow'].values()), list(data['Minsk'].values())]))"
   ]
  },
  {
   "cell_type": "code",
   "execution_count": 23,
   "id": "ac9f3759",
   "metadata": {},
   "outputs": [
    {
     "data": {
      "text/plain": [
       "[([1, 2, 3], [4, 5, 6], [7, 8, 9]), ([10, 11, 12, 13], [4, 5, 6], [7, 8, 9])]"
      ]
     },
     "execution_count": 23,
     "metadata": {},
     "output_type": "execute_result"
    }
   ],
   "source": [
    "list(itertools.product([[1,2,3], [10,11,12,13]], [[4,5,6]], [[7,8,9]]))"
   ]
  },
  {
   "cell_type": "code",
   "execution_count": 52,
   "id": "e5f6877a",
   "metadata": {},
   "outputs": [
    {
     "data": {
      "text/plain": [
       "[[0,\n",
       "  0,\n",
       "  0,\n",
       "  0,\n",
       "  0,\n",
       "  0,\n",
       "  0,\n",
       "  0,\n",
       "  1,\n",
       "  0,\n",
       "  1,\n",
       "  0,\n",
       "  1,\n",
       "  0,\n",
       "  1,\n",
       "  0,\n",
       "  1,\n",
       "  0,\n",
       "  1,\n",
       "  0,\n",
       "  0,\n",
       "  0,\n",
       "  0,\n",
       "  0,\n",
       "  'Kvartal'],\n",
       " [0,\n",
       "  0,\n",
       "  0,\n",
       "  0,\n",
       "  0,\n",
       "  0,\n",
       "  0,\n",
       "  0,\n",
       "  0,\n",
       "  1,\n",
       "  0,\n",
       "  1,\n",
       "  0,\n",
       "  1,\n",
       "  0,\n",
       "  1,\n",
       "  0,\n",
       "  1,\n",
       "  0,\n",
       "  1,\n",
       "  0,\n",
       "  0,\n",
       "  0,\n",
       "  0,\n",
       "  'Kvartet']]"
      ]
     },
     "execution_count": 52,
     "metadata": {},
     "output_type": "execute_result"
    }
   ],
   "source": [
    "list(data['Moscow'].values())"
   ]
  },
  {
   "cell_type": "code",
   "execution_count": 48,
   "id": "42b9e89b",
   "metadata": {},
   "outputs": [
    {
     "data": {
      "text/plain": [
       "[[0, 0, 1, 0, 0, 0, 0, 0, 1, 1, 1, 1, 1, 1, 1, 1, 0, 0, 0, 0, 0, 0, 0, 0]]"
      ]
     },
     "execution_count": 48,
     "metadata": {},
     "output_type": "execute_result"
    }
   ],
   "source": [
    "list(data['Minsk'].values())"
   ]
  },
  {
   "cell_type": "code",
   "execution_count": 50,
   "id": "3dbc70bb",
   "metadata": {},
   "outputs": [
    {
     "data": {
      "text/plain": [
       "[1, 0, 1, 0, 1, 1]"
      ]
     },
     "execution_count": 50,
     "metadata": {},
     "output_type": "execute_result"
    }
   ],
   "source": [
    "[1,0,1,0,1,1, 'Minsk'][:-1]"
   ]
  },
  {
   "cell_type": "code",
   "execution_count": 2,
   "id": "011d250d",
   "metadata": {},
   "outputs": [
    {
     "name": "stdout",
     "output_type": "stream",
     "text": [
      "3\n",
      "Moscow 2\n",
      "XXXXXXXX.X.X.X.X.X.XXXXX Kvartal\n",
      "XXXXXXXXX.X.X.X.X.X.XXXX Kvartet\n",
      "Minsk 1\n",
      "XX.XXXXX........XXXXXXXX Toloka\n",
      "Berlin 2\n",
      "XX..XXXXXXXXXXXXXXXXXXXX Mitte\n",
      "XXXXXXXXXXXXXXXX.....XXX Lustgarten\n",
      "4\n",
      "3 Moscow Minsk Berlin\n",
      "No\n",
      "2 Moscow Minsk\n",
      "Yes Kvartal Toloka\n",
      "2 Minsk Berlin\n",
      "Yes Toloka Mitte\n",
      "2 Moscow Berlin\n",
      "Yes Kvartal Lustgarten\n"
     ]
    }
   ],
   "source": [
    "c = int(input())\n",
    "data = {}\n",
    "for i in range(c):\n",
    "    city, num_hous = input().split()\n",
    "    num_hous = int(num_hous)\n",
    "    data[city] = {}\t\n",
    "    for j in range(num_hous):\n",
    "        plan, name = input().split()\n",
    "        plan = [0 if sim == 'X' else 1 for sim in plan]\n",
    "        plan.append(name)\n",
    "        data[city][name] = plan\n",
    "m = int(input())\n",
    "for i in range(m):\n",
    "    requests = input().split()\n",
    "    comb = list(itertools.product(*[list(data[name].values()) for name in requests[1:]]))\n",
    "    flag = False\n",
    "    for comb_ in comb:\n",
    "        total_mask = np.array([1]*24)\n",
    "        for mask in comb_:\n",
    "            total_mask = total_mask & np.array(mask[:-1])\n",
    "        if total_mask.sum() > 0:\n",
    "            print('Yes',*[mask[-1] for mask in comb_])\n",
    "            flag = True\n",
    "            break\n",
    "    if not flag:\n",
    "        print('No')        "
   ]
  },
  {
   "cell_type": "code",
   "execution_count": null,
   "id": "d1f2595c",
   "metadata": {},
   "outputs": [],
   "source": []
  }
 ],
 "metadata": {
  "kernelspec": {
   "display_name": "Python 3 (ipykernel)",
   "language": "python",
   "name": "python3"
  },
  "language_info": {
   "codemirror_mode": {
    "name": "ipython",
    "version": 3
   },
   "file_extension": ".py",
   "mimetype": "text/x-python",
   "name": "python",
   "nbconvert_exporter": "python",
   "pygments_lexer": "ipython3",
   "version": "3.12.0"
  }
 },
 "nbformat": 4,
 "nbformat_minor": 5
}
