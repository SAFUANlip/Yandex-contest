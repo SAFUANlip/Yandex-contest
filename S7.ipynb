{
 "cells": [
  {
   "cell_type": "code",
   "execution_count": 1,
   "id": "4daae7fd-eb44-482a-830f-4d03a60017d4",
   "metadata": {},
   "outputs": [],
   "source": [
    "import json\n",
    "import numpy as np\n",
    "from sklearn.metrics import accuracy_score\n",
    "\n",
    "import pandas as pd "
   ]
  },
  {
   "cell_type": "code",
   "execution_count": 2,
   "id": "b7bf4137-d713-4363-b616-afa1c35c7a3c",
   "metadata": {},
   "outputs": [],
   "source": [
    "X_train = np.loadtxt('final_X_train.txt')\n",
    "X_test = np.loadtxt('final_X_test.txt')\n",
    "\n",
    "with open('final_y_train.txt', 'r') as iofile:\n",
    "    y_train = np.array(json.load(iofile))"
   ]
  },
  {
   "cell_type": "code",
   "execution_count": 3,
   "id": "251b5c65-15bc-478f-b021-8bf6e2fe0777",
   "metadata": {},
   "outputs": [
    {
     "data": {
      "text/plain": [
       "((549, 19), (297, 19))"
      ]
     },
     "execution_count": 3,
     "metadata": {},
     "output_type": "execute_result"
    }
   ],
   "source": [
    "X_train.shape, X_test.shape "
   ]
  },
  {
   "cell_type": "code",
   "execution_count": 4,
   "id": "4d1e5838-b09b-4aaa-8046-8b1e8fdd0fe5",
   "metadata": {},
   "outputs": [],
   "source": [
    "data = pd.read_csv('vehicle.csv')"
   ]
  },
  {
   "cell_type": "code",
   "execution_count": 5,
   "id": "efd3b701-b741-4803-8336-f1110d89bfb0",
   "metadata": {},
   "outputs": [],
   "source": [
    "data_y = data['class']\n",
    "data_X = data.drop(['class'], axis=1)"
   ]
  },
  {
   "cell_type": "code",
   "execution_count": 7,
   "id": "ed260723-c377-45eb-a4e5-36f8944f1141",
   "metadata": {},
   "outputs": [],
   "source": [
    "data_y_arr = data_y.to_numpy()\n",
    "data_X_arr = data_X.to_numpy() "
   ]
  },
  {
   "cell_type": "code",
   "execution_count": 15,
   "id": "86bf249e-b9e3-4243-871e-6be9fde83e61",
   "metadata": {},
   "outputs": [
    {
     "name": "stdout",
     "output_type": "stream",
     "text": [
      "0 205 [ 87.  47.  81. 149.  62.   9. 147.  45.  19. 152. 171. 325. 181.  72.\n",
      "   0.   6. 188. 198.] van\n"
     ]
    }
   ],
   "source": [
    "for i in range(len(X_train[0])):\n",
    "    for dat in range(len(data_X_arr)):\n",
    "        mask = np.ones(len(X_train[0]), dtype=bool)\n",
    "        mask[i] = 0\n",
    "        if (data_X_arr[dat] == X_train[0][mask]).all():\n",
    "            print(i, dat, data_X_arr[dat], data_y_arr[dat])\n",
    "    "
   ]
  },
  {
   "cell_type": "code",
   "execution_count": 23,
   "id": "78ae3d62-0167-4976-b42c-f0d3d322256e",
   "metadata": {},
   "outputs": [
    {
     "data": {
      "text/plain": [
       "((846, 19), 846)"
      ]
     },
     "execution_count": 23,
     "metadata": {},
     "output_type": "execute_result"
    }
   ],
   "source": [
    "all_data.shape, X_train.shape[0] + X_test.shape[0] "
   ]
  },
  {
   "cell_type": "code",
   "execution_count": 24,
   "id": "f33b9c18-7640-4068-b07a-00aebec4fcdd",
   "metadata": {},
   "outputs": [
    {
     "data": {
      "text/plain": [
       "array([[95, 48.0, 83.0, ..., 187.0, 197, 'van'],\n",
       "       [91, 41.0, 84.0, ..., 189.0, 199, 'van'],\n",
       "       [104, 50.0, 106.0, ..., 188.0, 196, 'car'],\n",
       "       ...,\n",
       "       [106, 54.0, 101.0, ..., 187.0, 201, 'car'],\n",
       "       [86, 36.0, 78.0, ..., 190.0, 195, 'car'],\n",
       "       [85, 36.0, 66.0, ..., 186.0, 190, 'van']], dtype=object)"
      ]
     },
     "execution_count": 24,
     "metadata": {},
     "output_type": "execute_result"
    }
   ],
   "source": [
    "all_data = all_data.to_numpy() "
   ]
  },
  {
   "cell_type": "code",
   "execution_count": 30,
   "id": "04d17583-8f60-4ad7-b487-425b93c4068b",
   "metadata": {},
   "outputs": [
    {
     "data": {
      "text/plain": [
       "(846, 19)"
      ]
     },
     "execution_count": 30,
     "metadata": {},
     "output_type": "execute_result"
    }
   ],
   "source": [
    "all_data.to_numpy().shape"
   ]
  },
  {
   "cell_type": "code",
   "execution_count": 12,
   "id": "c44e5df2-cd43-404f-b3e3-eeb94c868db4",
   "metadata": {},
   "outputs": [],
   "source": [
    "res = a.pop(0)"
   ]
  },
  {
   "cell_type": "code",
   "execution_count": 13,
   "id": "b1bcb00c-1fa9-44ff-ba0e-7a334341fc43",
   "metadata": {},
   "outputs": [
    {
     "data": {
      "text/plain": [
       "[4, 6]"
      ]
     },
     "execution_count": 13,
     "metadata": {},
     "output_type": "execute_result"
    }
   ],
   "source": [
    "a"
   ]
  },
  {
   "cell_type": "code",
   "execution_count": 14,
   "id": "dd47c60a-5522-4898-8652-053646ae890f",
   "metadata": {},
   "outputs": [
    {
     "data": {
      "text/plain": [
       "3"
      ]
     },
     "execution_count": 14,
     "metadata": {},
     "output_type": "execute_result"
    }
   ],
   "source": [
    "res "
   ]
  },
  {
   "cell_type": "code",
   "execution_count": null,
   "id": "38012fa1-8cc4-4822-86bf-3f5b9a00aa79",
   "metadata": {},
   "outputs": [],
   "source": []
  }
 ],
 "metadata": {
  "kernelspec": {
   "display_name": "Python 3 (ipykernel)",
   "language": "python",
   "name": "python3"
  },
  "language_info": {
   "codemirror_mode": {
    "name": "ipython",
    "version": 3
   },
   "file_extension": ".py",
   "mimetype": "text/x-python",
   "name": "python",
   "nbconvert_exporter": "python",
   "pygments_lexer": "ipython3",
   "version": "3.12.0"
  }
 },
 "nbformat": 4,
 "nbformat_minor": 5
}
