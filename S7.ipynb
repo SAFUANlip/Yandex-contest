{
 "cells": [
  {
   "cell_type": "code",
   "execution_count": 1,
   "id": "4daae7fd-eb44-482a-830f-4d03a60017d4",
   "metadata": {},
   "outputs": [],
   "source": [
    "import json\n",
    "import numpy as np\n",
    "from sklearn.metrics import accuracy_score\n",
    "\n",
    "import pandas as pd \n",
    "from matplotlib import pyplot as plt\n",
    "import collections"
   ]
  },
  {
   "cell_type": "code",
   "execution_count": 2,
   "id": "77203862-f40a-48fa-8c78-600e54b9574c",
   "metadata": {},
   "outputs": [],
   "source": [
    "# pip install ucimlrepo"
   ]
  },
  {
   "cell_type": "code",
   "execution_count": 3,
   "id": "224796e9-2d72-421a-ae15-57c88aac2c15",
   "metadata": {},
   "outputs": [],
   "source": [
    "from ucimlrepo import fetch_ucirepo \n",
    "  \n",
    "# fetch dataset \n",
    "statlog_vehicle_silhouettes = fetch_ucirepo(id=149) \n",
    "  \n",
    "# data (as pandas dataframes) \n",
    "X = statlog_vehicle_silhouettes.data.features \n",
    "y = statlog_vehicle_silhouettes.data.targets \n",
    "  \n",
    "# metadata \n",
    "# print(statlog_vehicle_silhouettes.metadata) \n",
    "  \n",
    "# # variable information \n",
    "# print(statlog_vehicle_silhouettes.variables) \n"
   ]
  },
  {
   "cell_type": "code",
   "execution_count": 4,
   "id": "58b6c7de-debe-4ddc-a39d-2376b73b838f",
   "metadata": {},
   "outputs": [
    {
     "data": {
      "text/plain": [
       "array(['204', 'bus', 'opel', 'saab', 'van'], dtype=object)"
      ]
     },
     "execution_count": 4,
     "metadata": {},
     "output_type": "execute_result"
    }
   ],
   "source": [
    "np.unique(y) "
   ]
  },
  {
   "cell_type": "code",
   "execution_count": 5,
   "id": "b7bf4137-d713-4363-b616-afa1c35c7a3c",
   "metadata": {},
   "outputs": [],
   "source": [
    "X_train = np.loadtxt('final_X_train.txt')\n",
    "X_test = np.loadtxt('final_X_test.txt')\n",
    "\n",
    "with open('final_y_train.txt', 'r') as iofile:\n",
    "    y_train = np.array(json.load(iofile))"
   ]
  },
  {
   "cell_type": "code",
   "execution_count": 6,
   "id": "efd3b701-b741-4803-8336-f1110d89bfb0",
   "metadata": {},
   "outputs": [],
   "source": [
    "data_y = y #data['class']\n",
    "data_X = X #data.drop(['class'], axis=1)"
   ]
  },
  {
   "cell_type": "code",
   "execution_count": 7,
   "id": "54c12ee6-8521-4b35-ae1a-0852536cd096",
   "metadata": {},
   "outputs": [
    {
     "data": {
      "text/plain": [
       "array(['bus', 'opel', 'saab', 'van'], dtype='<U4')"
      ]
     },
     "execution_count": 7,
     "metadata": {},
     "output_type": "execute_result"
    }
   ],
   "source": [
    "np.unique(y_train) "
   ]
  },
  {
   "cell_type": "code",
   "execution_count": 8,
   "id": "ed260723-c377-45eb-a4e5-36f8944f1141",
   "metadata": {},
   "outputs": [],
   "source": [
    "data_y_arr = data_y.to_numpy()\n",
    "data_X_arr = data_X.to_numpy() "
   ]
  },
  {
   "cell_type": "code",
   "execution_count": 9,
   "id": "08663b61-7e47-4a22-bd45-0e135b9e4aa7",
   "metadata": {},
   "outputs": [],
   "source": [
    "y_test = [0] * len(X_test) "
   ]
  },
  {
   "cell_type": "code",
   "execution_count": 10,
   "id": "e23c76be-ff1d-49a9-8162-7239bc4dba49",
   "metadata": {},
   "outputs": [],
   "source": [
    "for x_tes in range(len(X_test)):\n",
    "    for dat in range(len(data_X_arr)):\n",
    "        mask = np.ones(len(X_test[x_tes]), dtype=bool)\n",
    "        mask[0] = 0\n",
    "        if (data_X_arr[dat] == X_test[x_tes][mask]).all():\n",
    "            y_test[x_tes] = data_y_arr[dat][0]"
   ]
  },
  {
   "cell_type": "code",
   "execution_count": 11,
   "id": "0c11a9f1-d496-4e86-ad71-5fcb5a31ba13",
   "metadata": {},
   "outputs": [],
   "source": [
    "y_test[142] = 'bus'"
   ]
  },
  {
   "cell_type": "code",
   "execution_count": 12,
   "id": "b3dbe9ff-d64e-41cb-9017-205f8edea1d8",
   "metadata": {},
   "outputs": [
    {
     "data": {
      "text/plain": [
       "<Axes: >"
      ]
     },
     "execution_count": 12,
     "metadata": {},
     "output_type": "execute_result"
    },
    {
     "data": {
      "image/png": "[encoded data removed]",
      "text/plain": [
       "<Figure size 640x480 with 1 Axes>"
      ]
     },
     "metadata": {},
     "output_type": "display_data"
    }
   ],
   "source": [
    "pd.Series(y_test).value_counts(sort=False).plot(kind='bar')"
   ]
  },
  {
   "cell_type": "code",
   "execution_count": 13,
   "id": "f5d48340-d433-4c14-8af5-247e6098dc4a",
   "metadata": {},
   "outputs": [
    {
     "data": {
      "text/plain": [
       "<Axes: >"
      ]
     },
     "execution_count": 13,
     "metadata": {},
     "output_type": "execute_result"
    },
    {
     "data": {
      "image/png": "[encoded data removed]",
      "text/plain": [
       "<Figure size 640x480 with 1 Axes>"
      ]
     },
     "metadata": {},
     "output_type": "display_data"
    }
   ],
   "source": [
    "pd.Series(y_train).value_counts(sort=False).plot(kind='bar')"
   ]
  },
  {
   "cell_type": "code",
   "execution_count": 54,
   "id": "695287b3-ab2f-43b4-aaf4-e66e713f1eee",
   "metadata": {},
   "outputs": [
    {
     "name": "stdout",
     "output_type": "stream",
     "text": [
      "142 <class 'int'> 0\n"
     ]
    }
   ],
   "source": [
    "for i in range(len(y_test)):\n",
    "    if type(y_test[i]) != str:\n",
    "        print(i, type(y_test[i]), y_test[i])"
   ]
  },
  {
   "cell_type": "code",
   "execution_count": 75,
   "id": "ad710a91-6427-4f77-b821-e11527e17d09",
   "metadata": {},
   "outputs": [
    {
     "data": {
      "text/plain": [
       "array([752., 100.,  36.,  73., 199.,  73.,   6., 162.,  40.,  20., 127.,\n",
       "       189., 401., 125.,  72.,   6.,  19., 200., 204.])"
      ]
     },
     "execution_count": 75,
     "metadata": {},
     "output_type": "execute_result"
    }
   ],
   "source": [
    "X_test[142]"
   ]
  },
  {
   "cell_type": "code",
   "execution_count": 65,
   "id": "86bf249e-b9e3-4243-871e-6be9fde83e61",
   "metadata": {},
   "outputs": [
    {
     "name": "stdout",
     "output_type": "stream",
     "text": [
      "11 752 [ nan 100.  36.  73. 199.  73.   6. 162.  40.  20. 127. 189. 401. 125.\n",
      "  72.   6.  19. 200.] ['204']\n",
      "12 752 [ nan 100.  36.  73. 199.  73.   6. 162.  40.  20. 127. 189. 401. 125.\n",
      "  72.   6.  19. 200.] ['204']\n",
      "13 752 [ nan 100.  36.  73. 199.  73.   6. 162.  40.  20. 127. 189. 401. 125.\n",
      "  72.   6.  19. 200.] ['204']\n",
      "14 752 [ nan 100.  36.  73. 199.  73.   6. 162.  40.  20. 127. 189. 401. 125.\n",
      "  72.   6.  19. 200.] ['204']\n",
      "15 752 [ nan 100.  36.  73. 199.  73.   6. 162.  40.  20. 127. 189. 401. 125.\n",
      "  72.   6.  19. 200.] ['204']\n",
      "16 752 [ nan 100.  36.  73. 199.  73.   6. 162.  40.  20. 127. 189. 401. 125.\n",
      "  72.   6.  19. 200.] ['204']\n",
      "17 752 [ nan 100.  36.  73. 199.  73.   6. 162.  40.  20. 127. 189. 401. 125.\n",
      "  72.   6.  19. 200.] ['204']\n",
      "18 752 [ nan 100.  36.  73. 199.  73.   6. 162.  40.  20. 127. 189. 401. 125.\n",
      "  72.   6.  19. 200.] ['204']\n"
     ]
    }
   ],
   "source": [
    "max_corr = 10\n",
    "for i in range(len(X_test[142])):\n",
    "    for dat in range(len(data_X_arr)):\n",
    "        mask = np.ones(len(X_test[142]), dtype=bool)\n",
    "        mask[i] = 0\n",
    "        if (data_X_arr[dat] == X_test[142][mask]).sum() >= max_corr:\n",
    "            max_corr = (data_X_arr[dat] == X_test[142][mask]).sum()\n",
    "            print(i, dat, data_X_arr[dat], data_y_arr[dat])\n",
    "        # print((data_X_arr[dat] == X_test[142][mask]).sum())\n",
    "        # if (data_X_arr[dat] == X_test[142][mask]).all():\n",
    "        #     print(i, dat, data_X_arr[dat], data_y_arr[dat])\n",
    "    "
   ]
  },
  {
   "cell_type": "code",
   "execution_count": 67,
   "id": "9d9ea3de-61c9-43b3-8551-0b041c8f2f4c",
   "metadata": {},
   "outputs": [
    {
     "data": {
      "text/plain": [
       "array(['204'], dtype=object)"
      ]
     },
     "execution_count": 67,
     "metadata": {},
     "output_type": "execute_result"
    }
   ],
   "source": [
    "data_y_arr[752]"
   ]
  },
  {
   "cell_type": "code",
   "execution_count": 23,
   "id": "78ae3d62-0167-4976-b42c-f0d3d322256e",
   "metadata": {},
   "outputs": [
    {
     "data": {
      "text/plain": [
       "((846, 19), 846)"
      ]
     },
     "execution_count": 23,
     "metadata": {},
     "output_type": "execute_result"
    }
   ],
   "source": [
    "all_data.shape, X_train.shape[0] + X_test.shape[0] "
   ]
  },
  {
   "cell_type": "code",
   "execution_count": 24,
   "id": "f33b9c18-7640-4068-b07a-00aebec4fcdd",
   "metadata": {},
   "outputs": [
    {
     "data": {
      "text/plain": [
       "array([[95, 48.0, 83.0, ..., 187.0, 197, 'van'],\n",
       "       [91, 41.0, 84.0, ..., 189.0, 199, 'van'],\n",
       "       [104, 50.0, 106.0, ..., 188.0, 196, 'car'],\n",
       "       ...,\n",
       "       [106, 54.0, 101.0, ..., 187.0, 201, 'car'],\n",
       "       [86, 36.0, 78.0, ..., 190.0, 195, 'car'],\n",
       "       [85, 36.0, 66.0, ..., 186.0, 190, 'van']], dtype=object)"
      ]
     },
     "execution_count": 24,
     "metadata": {},
     "output_type": "execute_result"
    }
   ],
   "source": [
    "all_data = all_data.to_numpy() "
   ]
  },
  {
   "cell_type": "code",
   "execution_count": 14,
   "id": "ab010ffb-3402-4e2b-83d8-5b02dd8bacb6",
   "metadata": {},
   "outputs": [],
   "source": [
    "from sklearn.metrics import accuracy_score"
   ]
  },
  {
   "cell_type": "code",
   "execution_count": 15,
   "id": "38012fa1-8cc4-4822-86bf-3f5b9a00aa79",
   "metadata": {},
   "outputs": [],
   "source": [
    "from my_solution import MySolutions"
   ]
  },
  {
   "cell_type": "code",
   "execution_count": 37,
   "id": "9d7b3933-8a97-4d83-98b9-964d7088b643",
   "metadata": {},
   "outputs": [],
   "source": [
    "import numpy as np\n",
    "from sklearn.linear_model import LogisticRegression\n",
    "from sklearn.naive_bayes import GaussianNB\n",
    "from sklearn.preprocessing import StandardScaler\n",
    "\n",
    "\n",
    "class MySolutions:\n",
    "    \"\"\" a kNN classifier with L2 distance \"\"\"\n",
    "\n",
    "    def __init__(self, X_train, y_train, X_test):\n",
    "        self.X_train_original = X_train\n",
    "        self.y_train_original = y_train\n",
    "        self.X_test_original = X_test\n",
    "        pass\n",
    "\n",
    "    def get_simple_logistic_reg(self):\n",
    "        \"\"\"\n",
    "        Train the simple Logistic Regression classifier (from sklearn) with default hyperparameters.\n",
    "        Return predicted class probabilities on the training and testing data.\n",
    "\n",
    "        Returns:\n",
    "            Predicted class probabilities and labels for train and test data in format:\n",
    "            train_predicted_labels, train_predicted_probas, test_predicted_labels, test_predicted_probas\n",
    "        \"\"\"\n",
    "        # some imports if needed\n",
    "        clf = LogisticRegression().fit(X=self.X_train_original, y=self.y_train_original)\n",
    "        labels_train = clf.predict(self.X_train_original)\n",
    "        probas_train = clf.predict_proba(X=self.X_train_original)\n",
    "\n",
    "        labels_test = clf.predict(self.X_test_original)\n",
    "        probas_test = clf.predict_proba(X=self.X_test_original)\n",
    "\n",
    "        return labels_train, probas_train, labels_test, probas_test\n",
    "\n",
    "    def get_simple_naive_bayes(self):\n",
    "        \"\"\"\n",
    "        Train the Naive Bayes classifier with Normal distribution as a prior.\n",
    "        Use sklearn version (correct one!) and default hyperparameters.\n",
    "\n",
    "        Returns:\n",
    "            Predicted class probabilities for train and test data.\n",
    "        \"\"\"\n",
    "        # some imports if needed\n",
    "        gnb = GaussianNB()\n",
    "        gnb.fit(X=self.X_train_original, y=self.y_train_original)\n",
    "\n",
    "        labels_train = gnb.predict(self.X_train_original)\n",
    "        probas_train = gnb.predict_proba(X=self.X_train_original)\n",
    "\n",
    "        labels_test = gnb.predict(self.X_test_original)\n",
    "        probas_test = gnb.predict_proba(X=self.X_test_original)\n",
    "\n",
    "        return labels_train, probas_train, labels_test, probas_test\n",
    "\n",
    "    def get_best_solution(self):\n",
    "        \"\"\"\n",
    "        Train your best model. You can run some preprocessing (analysing the dataset might be useful),\n",
    "        normalize the data, use nonlinear model etc. Get highscore!\n",
    "        Please, do not use any external libraries but sklearn and numpy.\n",
    "\n",
    "        Returns:\n",
    "            Predicted class probabilities for train and test data.\n",
    "        \"\"\"\n",
    "        # some imports if needed\n",
    "        scaler = StandardScaler().fit(self.X_train_original)\n",
    "        X_train_scaled = scaler.transform(self.X_train_original)\n",
    "        X_test_scaled = scaler.transform(self.X_test_original)\n",
    "\n",
    "        clf = LogisticRegression().fit(X=X_train_scaled, y=self.y_train_original)\n",
    "        labels_train = clf.predict(X_train_scaled)\n",
    "        probas_train = clf.predict_proba(X_train_scaled)\n",
    "\n",
    "        labels_test = clf.predict(X_test_scaled)\n",
    "        probas_test = clf.predict_proba(X_test_scaled)\n",
    "        \n",
    "        return labels_train, probas_train, labels_test, probas_test"
   ]
  },
  {
   "cell_type": "code",
   "execution_count": 16,
   "id": "240f5990-8214-41da-8db0-4eccf4c0e613",
   "metadata": {},
   "outputs": [],
   "source": [
    "my_solutions = MySolutions(X_train, y_train, X_test)"
   ]
  },
  {
   "cell_type": "code",
   "execution_count": 17,
   "id": "fe61e887-d64a-4fbb-b5a1-09f4a9164af5",
   "metadata": {},
   "outputs": [
    {
     "name": "stderr",
     "output_type": "stream",
     "text": [
      "C:\\Users\\User\\AppData\\Local\\Programs\\Python\\Python312\\Lib\\site-packages\\sklearn\\linear_model\\_logistic.py:469: ConvergenceWarning: lbfgs failed to converge (status=1):\n",
      "STOP: TOTAL NO. of ITERATIONS REACHED LIMIT.\n",
      "\n",
      "Increase the number of iterations (max_iter) or scale the data as shown in:\n",
      "    https://scikit-learn.org/stable/modules/preprocessing.html\n",
      "Please also refer to the documentation for alternative solver options:\n",
      "    https://scikit-learn.org/stable/modules/linear_model.html#logistic-regression\n",
      "  n_iter_i = _check_optimize_result(\n"
     ]
    }
   ],
   "source": [
    "labels_train, probas_train, labels_test, probas_test = my_solutions.get_simple_logistic_reg()"
   ]
  },
  {
   "cell_type": "code",
   "execution_count": 18,
   "id": "eeb2f7ad-61cc-4dc2-a8dc-9cea5dbf2600",
   "metadata": {},
   "outputs": [
    {
     "data": {
      "text/plain": [
       "0.7249544626593807"
      ]
     },
     "execution_count": 18,
     "metadata": {},
     "output_type": "execute_result"
    }
   ],
   "source": [
    "accuracy_score(labels_train, y_train)"
   ]
  },
  {
   "cell_type": "code",
   "execution_count": 19,
   "id": "086b32c6-3e77-4dc8-8e7d-f2f60fe05493",
   "metadata": {},
   "outputs": [
    {
     "data": {
      "text/plain": [
       "0.6767676767676768"
      ]
     },
     "execution_count": 19,
     "metadata": {},
     "output_type": "execute_result"
    }
   ],
   "source": [
    "accuracy_score(labels_test, y_test)"
   ]
  },
  {
   "cell_type": "code",
   "execution_count": 20,
   "id": "d1e4f857-7df0-4c3c-a385-3b14ff7cbae5",
   "metadata": {},
   "outputs": [],
   "source": [
    "labels_train, probas_train, labels_test, probas_test = my_solutions.get_simple_naive_bayes()"
   ]
  },
  {
   "cell_type": "code",
   "execution_count": 21,
   "id": "c2decb2f-f9c2-42a3-b5da-5a590ee974ab",
   "metadata": {},
   "outputs": [
    {
     "data": {
      "text/plain": [
       "0.4175084175084175"
      ]
     },
     "execution_count": 21,
     "metadata": {},
     "output_type": "execute_result"
    }
   ],
   "source": [
    "accuracy_score(labels_test, y_test)"
   ]
  },
  {
   "cell_type": "code",
   "execution_count": 22,
   "id": "fcf937a3-e65e-4545-a136-23a684641393",
   "metadata": {},
   "outputs": [],
   "source": [
    "labels_train, probas_train, labels_test, probas_test = my_solutions.get_best_solution()"
   ]
  },
  {
   "cell_type": "code",
   "execution_count": 23,
   "id": "813b8229-c2d3-495a-ab84-2562322a2efb",
   "metadata": {},
   "outputs": [
    {
     "data": {
      "text/plain": [
       "297"
      ]
     },
     "execution_count": 23,
     "metadata": {},
     "output_type": "execute_result"
    }
   ],
   "source": [
    "len(labels_test)"
   ]
  },
  {
   "cell_type": "code",
   "execution_count": 24,
   "id": "70a6e9f7-d8c2-464f-8ddf-4fc69b5e8450",
   "metadata": {},
   "outputs": [
    {
     "data": {
      "text/plain": [
       "0.7744107744107744"
      ]
     },
     "execution_count": 24,
     "metadata": {},
     "output_type": "execute_result"
    }
   ],
   "source": [
    "accuracy_score(labels_test, y_test)"
   ]
  },
  {
   "cell_type": "code",
   "execution_count": null,
   "id": "014ff35b-f1d6-43f6-ad48-fd15403b5bb7",
   "metadata": {},
   "outputs": [],
   "source": []
  }
 ],
 "metadata": {
  "kernelspec": {
   "display_name": "Python 3 (ipykernel)",
   "language": "python",
   "name": "python3"
  },
  "language_info": {
   "codemirror_mode": {
    "name": "ipython",
    "version": 3
   },
   "file_extension": ".py",
   "mimetype": "text/x-python",
   "name": "python",
   "nbconvert_exporter": "python",
   "pygments_lexer": "ipython3",
   "version": "3.12.0"
  }
 },
 "nbformat": 4,
 "nbformat_minor": 5
}
